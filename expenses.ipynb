{
 "cells": [
  {
   "cell_type": "code",
   "execution_count": 1,
   "id": "230a22ea",
   "metadata": {},
   "outputs": [],
   "source": [
    "import gspread\n",
    "import pandas as pd\n",
    "import numpy as np"
   ]
  },
  {
   "cell_type": "code",
   "execution_count": 2,
   "id": "6bc6b806",
   "metadata": {},
   "outputs": [],
   "source": [
    "service_account = gspread.service_account(filename='./config/expense-tracker-358105-199d116b0a6d.json')\n",
    "workbook = service_account.open('badminton_tracking')\n",
    "worksheet = workbook.get_worksheet(0)"
   ]
  },
  {
   "cell_type": "code",
   "execution_count": 39,
   "id": "96069748",
   "metadata": {},
   "outputs": [],
   "source": [
    "df = pd.DataFrame(worksheet.get_all_records()).drop([\"Timestamp\", \"result\"], axis=1)\n",
    "\n",
    "df.columns = [\"date\", \"team_1_player_1\", \"team_1_player_2\", \"team_2_player_1\", \"team_2_player_2\", \"points_team_1\", \"points_team_2\", \"venue\"]\n",
    "df['winner'] = np.where(df.points_team_1 > df.points_team_2, 'team_1', 'team_2')\n",
    "df['margin'] = abs(df.points_team_1 - df.points_team_2)\n",
    "df['total_points_per_game'] = df[\"points_team_1\"] + df[\"points_team_2\"]\n",
    "\n",
    "df = df.applymap(lambda x: f'{x}'.lower().strip() if isinstance(x, str) else x)"
   ]
  },
  {
   "cell_type": "code",
   "execution_count": 41,
   "id": "7b1033a9",
   "metadata": {},
   "outputs": [
    {
     "data": {
      "text/plain": [
       "array(['12/27/2022', '12/28/2022', '12/29/2022', '12/30/2022', '1/3/2023',\n",
       "       '1/4/2023', '1/5/2023', '1/6/2023', '1/7/2023', '1/10/2023',\n",
       "       '1/12/2023', '1/14/2023', '1/17/2023', '1/20/2023', '1/21/2023',\n",
       "       '1/22/2023', '1/25/2023', '1/28/2023', '1/29/2023', '1/31/2023',\n",
       "       '2/3/2023', '2/5/2023', '2/7/2023', '2/11/2023', '2/17/2023',\n",
       "       '2/22/2023', '2/23/2023', '2/25/2023', '3/2/2023', '12/24/2022',\n",
       "       '12/26/2022'], dtype=object)"
      ]
     },
     "execution_count": 41,
     "metadata": {},
     "output_type": "execute_result"
    }
   ],
   "source": [
    "df['date'].unique()"
   ]
  },
  {
   "cell_type": "code",
   "execution_count": 57,
   "id": "c750c684",
   "metadata": {},
   "outputs": [
    {
     "data": {
      "text/plain": [
       "({'aakarsh', 'ajay', 'prateek', 'raghotham', 'vinay'},\n",
       " array(['match point - gublaala'], dtype=object))"
      ]
     },
     "execution_count": 57,
     "metadata": {},
     "output_type": "execute_result"
    }
   ],
   "source": [
    "players = []\n",
    "game_date = '1/28/2023'\n",
    "\n",
    "for i in [1, 2]:\n",
    "    players += df[df['date'] == game_date][f'team_{i}_player_1'].to_list() + df[df['date'] == game_date][f'team_{i}_player_2'].to_list()\n",
    "    \n",
    "set(players), df[df['date'] == game_date]['venue'].unique()"
   ]
  },
  {
   "cell_type": "code",
   "execution_count": 59,
   "id": "325c1c89",
   "metadata": {},
   "outputs": [
    {
     "name": "stdout",
     "output_type": "stream",
     "text": [
      "Help on built-in function union:\n",
      "\n",
      "union(...) method of builtins.set instance\n",
      "    Return the union of sets as a new set.\n",
      "    \n",
      "    (i.e. all elements that are in either set.)\n",
      "\n"
     ]
    }
   ],
   "source": [
    "set().remove()"
   ]
  }
 ],
 "metadata": {
  "kernelspec": {
   "display_name": "Python 3",
   "language": "python",
   "name": "python3"
  },
  "language_info": {
   "codemirror_mode": {
    "name": "ipython",
    "version": 3
   },
   "file_extension": ".py",
   "mimetype": "text/x-python",
   "name": "python",
   "nbconvert_exporter": "python",
   "pygments_lexer": "ipython3",
   "version": "3.8.10"
  }
 },
 "nbformat": 4,
 "nbformat_minor": 5
}
