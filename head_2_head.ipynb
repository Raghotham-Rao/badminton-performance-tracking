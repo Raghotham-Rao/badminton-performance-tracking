{
 "cells": [
  {
   "cell_type": "code",
   "execution_count": 1,
   "id": "80bb87dd",
   "metadata": {},
   "outputs": [],
   "source": [
    "import gspread\n",
    "import pandas as pd\n",
    "import numpy as np\n",
    "import plotly.express as px\n",
    "from plotly.subplots import make_subplots\n",
    "import plotly.graph_objects as go"
   ]
  },
  {
   "cell_type": "code",
   "execution_count": 2,
   "id": "5e83d7b7",
   "metadata": {},
   "outputs": [],
   "source": [
    "service_account = gspread.service_account(filename='./config/expense-tracker-358105-199d116b0a6d.json')\n",
    "workbook = service_account.open('badminton_tracking')\n",
    "worksheet = workbook.get_worksheet(0)"
   ]
  },
  {
   "cell_type": "code",
   "execution_count": 3,
   "id": "761a7a49",
   "metadata": {},
   "outputs": [],
   "source": [
    "df = pd.DataFrame(worksheet.get_all_records()).drop([\"Timestamp\", \"result\"], axis=1)\n",
    "\n",
    "df.columns = [\"date\", \"team_1_player_1\", \"team_1_player_2\", \"team_2_player_1\", \"team_2_player_2\", \"points_team_1\", \"points_team_2\", \"venue\"]\n",
    "\n",
    "df['winner'] = np.where(df.points_team_1 > df.points_team_2, 'team_1', 'team_2')\n",
    "df['margin'] = abs(df.points_team_1 - df.points_team_2)\n",
    "df['total_points_per_game'] = df[\"points_team_1\"] + df[\"points_team_2\"]\n",
    "\n",
    "df = df.applymap(lambda x: f'{x}'.lower().strip() if isinstance(x, str) else x)"
   ]
  },
  {
   "cell_type": "code",
   "execution_count": 4,
   "id": "cdf36e2e",
   "metadata": {},
   "outputs": [],
   "source": [
    "df['point_bins'] = pd.cut(\n",
    "    df['total_points_per_game'],\n",
    "    [0, 30, 35, 40, 45, float(\"inf\")],\n",
    "    right=False,\n",
    "    labels=['< 30', '30 - 35', '35 - 40', '40 - 45', \"> 45\"]\n",
    ")"
   ]
  },
  {
   "cell_type": "code",
   "execution_count": 5,
   "id": "c63d2d12",
   "metadata": {},
   "outputs": [],
   "source": [
    "players_list = list(np.unique(df[['team_1_player_1', 'team_1_player_2', 'team_2_player_1', 'team_2_player_2']].values))"
   ]
  },
  {
   "cell_type": "code",
   "execution_count": 6,
   "id": "69a64385",
   "metadata": {},
   "outputs": [],
   "source": [
    "def get_player_stats(player, df):\n",
    "    player_matches = df[\n",
    "        np.where(\n",
    "            np.logical_or.reduce([df[i] == player for i in [\"team_1_player_1\", \"team_1_player_2\", \"team_2_player_1\", \"team_2_player_2\"]]),\n",
    "            True,\n",
    "            False\n",
    "        )\n",
    "    ].copy()\n",
    "    \n",
    "    player_matches[\"belongs_to\"] = np.where(\n",
    "        np.logical_or(\n",
    "            *[player_matches[i] == player for i in [\"team_1_player_1\", \"team_1_player_2\"]]\n",
    "        ),\n",
    "        'team_1',\n",
    "        'team_2'\n",
    "    )\n",
    "    \n",
    "    player_matches['player_team_points'] = np.where(\n",
    "        player_matches[\"belongs_to\"] == 'team_1',\n",
    "        player_matches[\"points_team_1\"],\n",
    "        player_matches[\"points_team_2\"]\n",
    "    )\n",
    "    \n",
    "    player_matches['result'] = np.where(player_matches.belongs_to == player_matches.winner, \"win\", \"loss\")\n",
    "    player_matches['is_win'] = np.where(player_matches.result == \"win\", 1, 0)\n",
    "    \n",
    "    return player_matches"
   ]
  },
  {
   "cell_type": "code",
   "execution_count": 7,
   "id": "3b0c51d6",
   "metadata": {},
   "outputs": [],
   "source": [
    "team_1 = ['raghotham', 'nithin']\n",
    "team_2 = ['ajay', 'vinay']"
   ]
  },
  {
   "cell_type": "code",
   "execution_count": 12,
   "id": "dbd9af0a",
   "metadata": {},
   "outputs": [],
   "source": [
    "player_matches = get_player_stats(team_1[0], df)\n",
    "player_matches['partner'] = np.where(\n",
    "    player_matches[\"belongs_to\"] == 'team_1',\n",
    "    np.where(\n",
    "        player_matches[\"team_1_player_1\"] == team_1[0],\n",
    "        player_matches[\"team_1_player_2\"],\n",
    "        player_matches[\"team_1_player_1\"]\n",
    "    ),\n",
    "    np.where(\n",
    "        player_matches[\"team_2_player_1\"] == team_1[0],\n",
    "        player_matches[\"team_2_player_2\"],\n",
    "        player_matches[\"team_2_player_1\"]\n",
    "    ),\n",
    ")"
   ]
  },
  {
   "cell_type": "code",
   "execution_count": 13,
   "id": "e4e37e80",
   "metadata": {},
   "outputs": [
    {
     "data": {
      "text/html": [
       "<div>\n",
       "<style scoped>\n",
       "    .dataframe tbody tr th:only-of-type {\n",
       "        vertical-align: middle;\n",
       "    }\n",
       "\n",
       "    .dataframe tbody tr th {\n",
       "        vertical-align: top;\n",
       "    }\n",
       "\n",
       "    .dataframe thead th {\n",
       "        text-align: right;\n",
       "    }\n",
       "</style>\n",
       "<table border=\"1\" class=\"dataframe\">\n",
       "  <thead>\n",
       "    <tr style=\"text-align: right;\">\n",
       "      <th></th>\n",
       "      <th>date</th>\n",
       "      <th>team_1_player_1</th>\n",
       "      <th>team_1_player_2</th>\n",
       "      <th>team_2_player_1</th>\n",
       "      <th>team_2_player_2</th>\n",
       "      <th>points_team_1</th>\n",
       "      <th>points_team_2</th>\n",
       "      <th>venue</th>\n",
       "      <th>winner</th>\n",
       "      <th>margin</th>\n",
       "      <th>total_points_per_game</th>\n",
       "      <th>point_bins</th>\n",
       "      <th>belongs_to</th>\n",
       "      <th>player_team_points</th>\n",
       "      <th>result</th>\n",
       "      <th>is_win</th>\n",
       "      <th>partner</th>\n",
       "    </tr>\n",
       "  </thead>\n",
       "  <tbody>\n",
       "    <tr>\n",
       "      <th>0</th>\n",
       "      <td>12/27/2022</td>\n",
       "      <td>vinay</td>\n",
       "      <td>raghotham</td>\n",
       "      <td>ajay</td>\n",
       "      <td>aakarsh</td>\n",
       "      <td>15</td>\n",
       "      <td>21</td>\n",
       "      <td>isro match point</td>\n",
       "      <td>team_2</td>\n",
       "      <td>6</td>\n",
       "      <td>36</td>\n",
       "      <td>35 - 40</td>\n",
       "      <td>team_1</td>\n",
       "      <td>15</td>\n",
       "      <td>loss</td>\n",
       "      <td>0</td>\n",
       "      <td>vinay</td>\n",
       "    </tr>\n",
       "    <tr>\n",
       "      <th>1</th>\n",
       "      <td>12/28/2022</td>\n",
       "      <td>vinay</td>\n",
       "      <td>raghotham</td>\n",
       "      <td>ajay</td>\n",
       "      <td>sameer</td>\n",
       "      <td>25</td>\n",
       "      <td>27</td>\n",
       "      <td>isro match point</td>\n",
       "      <td>team_2</td>\n",
       "      <td>2</td>\n",
       "      <td>52</td>\n",
       "      <td>&gt; 45</td>\n",
       "      <td>team_1</td>\n",
       "      <td>25</td>\n",
       "      <td>loss</td>\n",
       "      <td>0</td>\n",
       "      <td>vinay</td>\n",
       "    </tr>\n",
       "    <tr>\n",
       "      <th>2</th>\n",
       "      <td>12/28/2022</td>\n",
       "      <td>vinay</td>\n",
       "      <td>raghotham</td>\n",
       "      <td>ajay</td>\n",
       "      <td>srinidhi</td>\n",
       "      <td>21</td>\n",
       "      <td>18</td>\n",
       "      <td>isro match point</td>\n",
       "      <td>team_1</td>\n",
       "      <td>3</td>\n",
       "      <td>39</td>\n",
       "      <td>35 - 40</td>\n",
       "      <td>team_1</td>\n",
       "      <td>21</td>\n",
       "      <td>win</td>\n",
       "      <td>1</td>\n",
       "      <td>vinay</td>\n",
       "    </tr>\n",
       "    <tr>\n",
       "      <th>3</th>\n",
       "      <td>12/28/2022</td>\n",
       "      <td>sameer</td>\n",
       "      <td>raghotham</td>\n",
       "      <td>vinay</td>\n",
       "      <td>srinidhi</td>\n",
       "      <td>14</td>\n",
       "      <td>21</td>\n",
       "      <td>isro match point</td>\n",
       "      <td>team_2</td>\n",
       "      <td>7</td>\n",
       "      <td>35</td>\n",
       "      <td>35 - 40</td>\n",
       "      <td>team_1</td>\n",
       "      <td>14</td>\n",
       "      <td>loss</td>\n",
       "      <td>0</td>\n",
       "      <td>sameer</td>\n",
       "    </tr>\n",
       "    <tr>\n",
       "      <th>4</th>\n",
       "      <td>12/28/2022</td>\n",
       "      <td>sameer</td>\n",
       "      <td>raghotham</td>\n",
       "      <td>ajay</td>\n",
       "      <td>srinidhi</td>\n",
       "      <td>21</td>\n",
       "      <td>18</td>\n",
       "      <td>isro match point</td>\n",
       "      <td>team_1</td>\n",
       "      <td>3</td>\n",
       "      <td>39</td>\n",
       "      <td>35 - 40</td>\n",
       "      <td>team_1</td>\n",
       "      <td>21</td>\n",
       "      <td>win</td>\n",
       "      <td>1</td>\n",
       "      <td>sameer</td>\n",
       "    </tr>\n",
       "    <tr>\n",
       "      <th>5</th>\n",
       "      <td>12/28/2022</td>\n",
       "      <td>sameer</td>\n",
       "      <td>raghotham</td>\n",
       "      <td>ajay</td>\n",
       "      <td>vinay</td>\n",
       "      <td>24</td>\n",
       "      <td>26</td>\n",
       "      <td>isro match point</td>\n",
       "      <td>team_2</td>\n",
       "      <td>2</td>\n",
       "      <td>50</td>\n",
       "      <td>&gt; 45</td>\n",
       "      <td>team_1</td>\n",
       "      <td>24</td>\n",
       "      <td>loss</td>\n",
       "      <td>0</td>\n",
       "      <td>sameer</td>\n",
       "    </tr>\n",
       "    <tr>\n",
       "      <th>6</th>\n",
       "      <td>12/28/2022</td>\n",
       "      <td>srinidhi</td>\n",
       "      <td>raghotham</td>\n",
       "      <td>ajay</td>\n",
       "      <td>vinay</td>\n",
       "      <td>19</td>\n",
       "      <td>21</td>\n",
       "      <td>isro match point</td>\n",
       "      <td>team_2</td>\n",
       "      <td>2</td>\n",
       "      <td>40</td>\n",
       "      <td>40 - 45</td>\n",
       "      <td>team_1</td>\n",
       "      <td>19</td>\n",
       "      <td>loss</td>\n",
       "      <td>0</td>\n",
       "      <td>srinidhi</td>\n",
       "    </tr>\n",
       "    <tr>\n",
       "      <th>7</th>\n",
       "      <td>12/29/2022</td>\n",
       "      <td>srinidhi</td>\n",
       "      <td>raghotham</td>\n",
       "      <td>ajay</td>\n",
       "      <td>prateek</td>\n",
       "      <td>21</td>\n",
       "      <td>16</td>\n",
       "      <td>isro match point</td>\n",
       "      <td>team_1</td>\n",
       "      <td>5</td>\n",
       "      <td>37</td>\n",
       "      <td>35 - 40</td>\n",
       "      <td>team_1</td>\n",
       "      <td>21</td>\n",
       "      <td>win</td>\n",
       "      <td>1</td>\n",
       "      <td>srinidhi</td>\n",
       "    </tr>\n",
       "    <tr>\n",
       "      <th>8</th>\n",
       "      <td>12/29/2022</td>\n",
       "      <td>srinidhi</td>\n",
       "      <td>raghotham</td>\n",
       "      <td>ajay</td>\n",
       "      <td>prateek</td>\n",
       "      <td>22</td>\n",
       "      <td>24</td>\n",
       "      <td>isro match point</td>\n",
       "      <td>team_2</td>\n",
       "      <td>2</td>\n",
       "      <td>46</td>\n",
       "      <td>&gt; 45</td>\n",
       "      <td>team_1</td>\n",
       "      <td>22</td>\n",
       "      <td>loss</td>\n",
       "      <td>0</td>\n",
       "      <td>srinidhi</td>\n",
       "    </tr>\n",
       "    <tr>\n",
       "      <th>9</th>\n",
       "      <td>12/29/2022</td>\n",
       "      <td>srinidhi</td>\n",
       "      <td>raghotham</td>\n",
       "      <td>ajay</td>\n",
       "      <td>prateek</td>\n",
       "      <td>22</td>\n",
       "      <td>20</td>\n",
       "      <td>isro match point</td>\n",
       "      <td>team_1</td>\n",
       "      <td>2</td>\n",
       "      <td>42</td>\n",
       "      <td>40 - 45</td>\n",
       "      <td>team_1</td>\n",
       "      <td>22</td>\n",
       "      <td>win</td>\n",
       "      <td>1</td>\n",
       "      <td>srinidhi</td>\n",
       "    </tr>\n",
       "    <tr>\n",
       "      <th>10</th>\n",
       "      <td>12/29/2022</td>\n",
       "      <td>prateek</td>\n",
       "      <td>raghotham</td>\n",
       "      <td>ajay</td>\n",
       "      <td>srinidhi</td>\n",
       "      <td>21</td>\n",
       "      <td>18</td>\n",
       "      <td>isro match point</td>\n",
       "      <td>team_1</td>\n",
       "      <td>3</td>\n",
       "      <td>39</td>\n",
       "      <td>35 - 40</td>\n",
       "      <td>team_1</td>\n",
       "      <td>21</td>\n",
       "      <td>win</td>\n",
       "      <td>1</td>\n",
       "      <td>prateek</td>\n",
       "    </tr>\n",
       "    <tr>\n",
       "      <th>11</th>\n",
       "      <td>12/29/2022</td>\n",
       "      <td>prateek</td>\n",
       "      <td>raghotham</td>\n",
       "      <td>ajay</td>\n",
       "      <td>srinidhi</td>\n",
       "      <td>20</td>\n",
       "      <td>22</td>\n",
       "      <td>isro match point</td>\n",
       "      <td>team_2</td>\n",
       "      <td>2</td>\n",
       "      <td>42</td>\n",
       "      <td>40 - 45</td>\n",
       "      <td>team_1</td>\n",
       "      <td>20</td>\n",
       "      <td>loss</td>\n",
       "      <td>0</td>\n",
       "      <td>prateek</td>\n",
       "    </tr>\n",
       "    <tr>\n",
       "      <th>12</th>\n",
       "      <td>12/29/2022</td>\n",
       "      <td>prateek</td>\n",
       "      <td>raghotham</td>\n",
       "      <td>ajay</td>\n",
       "      <td>srinidhi</td>\n",
       "      <td>21</td>\n",
       "      <td>12</td>\n",
       "      <td>isro match point</td>\n",
       "      <td>team_1</td>\n",
       "      <td>9</td>\n",
       "      <td>33</td>\n",
       "      <td>30 - 35</td>\n",
       "      <td>team_1</td>\n",
       "      <td>21</td>\n",
       "      <td>win</td>\n",
       "      <td>1</td>\n",
       "      <td>prateek</td>\n",
       "    </tr>\n",
       "    <tr>\n",
       "      <th>13</th>\n",
       "      <td>12/29/2022</td>\n",
       "      <td>ajay</td>\n",
       "      <td>raghotham</td>\n",
       "      <td>srinidhi</td>\n",
       "      <td>prateek</td>\n",
       "      <td>21</td>\n",
       "      <td>11</td>\n",
       "      <td>isro match point</td>\n",
       "      <td>team_1</td>\n",
       "      <td>10</td>\n",
       "      <td>32</td>\n",
       "      <td>30 - 35</td>\n",
       "      <td>team_1</td>\n",
       "      <td>21</td>\n",
       "      <td>win</td>\n",
       "      <td>1</td>\n",
       "      <td>ajay</td>\n",
       "    </tr>\n",
       "    <tr>\n",
       "      <th>14</th>\n",
       "      <td>12/29/2022</td>\n",
       "      <td>ajay</td>\n",
       "      <td>raghotham</td>\n",
       "      <td>srinidhi</td>\n",
       "      <td>prateek</td>\n",
       "      <td>21</td>\n",
       "      <td>18</td>\n",
       "      <td>isro match point</td>\n",
       "      <td>team_1</td>\n",
       "      <td>3</td>\n",
       "      <td>39</td>\n",
       "      <td>35 - 40</td>\n",
       "      <td>team_1</td>\n",
       "      <td>21</td>\n",
       "      <td>win</td>\n",
       "      <td>1</td>\n",
       "      <td>ajay</td>\n",
       "    </tr>\n",
       "    <tr>\n",
       "      <th>15</th>\n",
       "      <td>12/29/2022</td>\n",
       "      <td>ajay</td>\n",
       "      <td>raghotham</td>\n",
       "      <td>srinidhi</td>\n",
       "      <td>prateek</td>\n",
       "      <td>21</td>\n",
       "      <td>15</td>\n",
       "      <td>isro match point</td>\n",
       "      <td>team_1</td>\n",
       "      <td>6</td>\n",
       "      <td>36</td>\n",
       "      <td>35 - 40</td>\n",
       "      <td>team_1</td>\n",
       "      <td>21</td>\n",
       "      <td>win</td>\n",
       "      <td>1</td>\n",
       "      <td>ajay</td>\n",
       "    </tr>\n",
       "    <tr>\n",
       "      <th>16</th>\n",
       "      <td>12/30/2022</td>\n",
       "      <td>nithin</td>\n",
       "      <td>raghotham</td>\n",
       "      <td>ajay</td>\n",
       "      <td>vinay</td>\n",
       "      <td>14</td>\n",
       "      <td>21</td>\n",
       "      <td>prakash badminton academy</td>\n",
       "      <td>team_2</td>\n",
       "      <td>7</td>\n",
       "      <td>35</td>\n",
       "      <td>35 - 40</td>\n",
       "      <td>team_1</td>\n",
       "      <td>14</td>\n",
       "      <td>loss</td>\n",
       "      <td>0</td>\n",
       "      <td>nithin</td>\n",
       "    </tr>\n",
       "    <tr>\n",
       "      <th>17</th>\n",
       "      <td>12/30/2022</td>\n",
       "      <td>nithin</td>\n",
       "      <td>raghotham</td>\n",
       "      <td>srinidhi</td>\n",
       "      <td>aakarsh</td>\n",
       "      <td>20</td>\n",
       "      <td>22</td>\n",
       "      <td>prakash badminton academy</td>\n",
       "      <td>team_2</td>\n",
       "      <td>2</td>\n",
       "      <td>42</td>\n",
       "      <td>40 - 45</td>\n",
       "      <td>team_1</td>\n",
       "      <td>20</td>\n",
       "      <td>loss</td>\n",
       "      <td>0</td>\n",
       "      <td>nithin</td>\n",
       "    </tr>\n",
       "    <tr>\n",
       "      <th>18</th>\n",
       "      <td>12/30/2022</td>\n",
       "      <td>nithin</td>\n",
       "      <td>raghotham</td>\n",
       "      <td>ajay</td>\n",
       "      <td>vinay</td>\n",
       "      <td>14</td>\n",
       "      <td>21</td>\n",
       "      <td>prakash badminton academy</td>\n",
       "      <td>team_2</td>\n",
       "      <td>7</td>\n",
       "      <td>35</td>\n",
       "      <td>35 - 40</td>\n",
       "      <td>team_1</td>\n",
       "      <td>14</td>\n",
       "      <td>loss</td>\n",
       "      <td>0</td>\n",
       "      <td>nithin</td>\n",
       "    </tr>\n",
       "    <tr>\n",
       "      <th>19</th>\n",
       "      <td>12/30/2022</td>\n",
       "      <td>nithin</td>\n",
       "      <td>raghotham</td>\n",
       "      <td>srinidhi</td>\n",
       "      <td>aakarsh</td>\n",
       "      <td>21</td>\n",
       "      <td>14</td>\n",
       "      <td>prakash badminton academy</td>\n",
       "      <td>team_1</td>\n",
       "      <td>7</td>\n",
       "      <td>35</td>\n",
       "      <td>35 - 40</td>\n",
       "      <td>team_1</td>\n",
       "      <td>21</td>\n",
       "      <td>win</td>\n",
       "      <td>1</td>\n",
       "      <td>nithin</td>\n",
       "    </tr>\n",
       "    <tr>\n",
       "      <th>20</th>\n",
       "      <td>12/30/2022</td>\n",
       "      <td>nithin</td>\n",
       "      <td>raghotham</td>\n",
       "      <td>ajay</td>\n",
       "      <td>vinay</td>\n",
       "      <td>20</td>\n",
       "      <td>22</td>\n",
       "      <td>prakash badminton academy</td>\n",
       "      <td>team_2</td>\n",
       "      <td>2</td>\n",
       "      <td>42</td>\n",
       "      <td>40 - 45</td>\n",
       "      <td>team_1</td>\n",
       "      <td>20</td>\n",
       "      <td>loss</td>\n",
       "      <td>0</td>\n",
       "      <td>nithin</td>\n",
       "    </tr>\n",
       "    <tr>\n",
       "      <th>21</th>\n",
       "      <td>12/30/2022</td>\n",
       "      <td>nithin</td>\n",
       "      <td>raghotham</td>\n",
       "      <td>srinidhi</td>\n",
       "      <td>aakarsh</td>\n",
       "      <td>20</td>\n",
       "      <td>22</td>\n",
       "      <td>prakash badminton academy</td>\n",
       "      <td>team_2</td>\n",
       "      <td>2</td>\n",
       "      <td>42</td>\n",
       "      <td>40 - 45</td>\n",
       "      <td>team_1</td>\n",
       "      <td>20</td>\n",
       "      <td>loss</td>\n",
       "      <td>0</td>\n",
       "      <td>nithin</td>\n",
       "    </tr>\n",
       "    <tr>\n",
       "      <th>22</th>\n",
       "      <td>12/30/2022</td>\n",
       "      <td>nithin</td>\n",
       "      <td>raghotham</td>\n",
       "      <td>ajay</td>\n",
       "      <td>vinay</td>\n",
       "      <td>14</td>\n",
       "      <td>21</td>\n",
       "      <td>prakash badminton academy</td>\n",
       "      <td>team_2</td>\n",
       "      <td>7</td>\n",
       "      <td>35</td>\n",
       "      <td>35 - 40</td>\n",
       "      <td>team_1</td>\n",
       "      <td>14</td>\n",
       "      <td>loss</td>\n",
       "      <td>0</td>\n",
       "      <td>nithin</td>\n",
       "    </tr>\n",
       "    <tr>\n",
       "      <th>23</th>\n",
       "      <td>12/30/2022</td>\n",
       "      <td>nithin</td>\n",
       "      <td>raghotham</td>\n",
       "      <td>ajay</td>\n",
       "      <td>aakarsh</td>\n",
       "      <td>10</td>\n",
       "      <td>21</td>\n",
       "      <td>prakash badminton academy</td>\n",
       "      <td>team_2</td>\n",
       "      <td>11</td>\n",
       "      <td>31</td>\n",
       "      <td>30 - 35</td>\n",
       "      <td>team_1</td>\n",
       "      <td>10</td>\n",
       "      <td>loss</td>\n",
       "      <td>0</td>\n",
       "      <td>nithin</td>\n",
       "    </tr>\n",
       "    <tr>\n",
       "      <th>24</th>\n",
       "      <td>12/30/2022</td>\n",
       "      <td>vinay</td>\n",
       "      <td>raghotham</td>\n",
       "      <td>ajay</td>\n",
       "      <td>aakarsh</td>\n",
       "      <td>21</td>\n",
       "      <td>13</td>\n",
       "      <td>prakash badminton academy</td>\n",
       "      <td>team_1</td>\n",
       "      <td>8</td>\n",
       "      <td>34</td>\n",
       "      <td>30 - 35</td>\n",
       "      <td>team_1</td>\n",
       "      <td>21</td>\n",
       "      <td>win</td>\n",
       "      <td>1</td>\n",
       "      <td>vinay</td>\n",
       "    </tr>\n",
       "    <tr>\n",
       "      <th>25</th>\n",
       "      <td>12/30/2022</td>\n",
       "      <td>vinay</td>\n",
       "      <td>raghotham</td>\n",
       "      <td>ajay</td>\n",
       "      <td>aakarsh</td>\n",
       "      <td>23</td>\n",
       "      <td>21</td>\n",
       "      <td>prakash badminton academy</td>\n",
       "      <td>team_1</td>\n",
       "      <td>2</td>\n",
       "      <td>44</td>\n",
       "      <td>40 - 45</td>\n",
       "      <td>team_1</td>\n",
       "      <td>23</td>\n",
       "      <td>win</td>\n",
       "      <td>1</td>\n",
       "      <td>vinay</td>\n",
       "    </tr>\n",
       "    <tr>\n",
       "      <th>26</th>\n",
       "      <td>12/24/2022</td>\n",
       "      <td>ajay</td>\n",
       "      <td>raghotham</td>\n",
       "      <td>shankar</td>\n",
       "      <td>swaroop</td>\n",
       "      <td>21</td>\n",
       "      <td>15</td>\n",
       "      <td>match point - gublaala</td>\n",
       "      <td>team_1</td>\n",
       "      <td>6</td>\n",
       "      <td>36</td>\n",
       "      <td>35 - 40</td>\n",
       "      <td>team_1</td>\n",
       "      <td>21</td>\n",
       "      <td>win</td>\n",
       "      <td>1</td>\n",
       "      <td>ajay</td>\n",
       "    </tr>\n",
       "    <tr>\n",
       "      <th>27</th>\n",
       "      <td>12/24/2022</td>\n",
       "      <td>ajay</td>\n",
       "      <td>raghotham</td>\n",
       "      <td>vatsa</td>\n",
       "      <td>nayana</td>\n",
       "      <td>21</td>\n",
       "      <td>19</td>\n",
       "      <td>match point - gublaala</td>\n",
       "      <td>team_1</td>\n",
       "      <td>2</td>\n",
       "      <td>40</td>\n",
       "      <td>40 - 45</td>\n",
       "      <td>team_1</td>\n",
       "      <td>21</td>\n",
       "      <td>win</td>\n",
       "      <td>1</td>\n",
       "      <td>ajay</td>\n",
       "    </tr>\n",
       "    <tr>\n",
       "      <th>28</th>\n",
       "      <td>12/26/2022</td>\n",
       "      <td>srinidhi</td>\n",
       "      <td>raghotham</td>\n",
       "      <td>ajay</td>\n",
       "      <td>aakarsh</td>\n",
       "      <td>21</td>\n",
       "      <td>15</td>\n",
       "      <td>isro match point</td>\n",
       "      <td>team_1</td>\n",
       "      <td>6</td>\n",
       "      <td>36</td>\n",
       "      <td>35 - 40</td>\n",
       "      <td>team_1</td>\n",
       "      <td>21</td>\n",
       "      <td>win</td>\n",
       "      <td>1</td>\n",
       "      <td>srinidhi</td>\n",
       "    </tr>\n",
       "    <tr>\n",
       "      <th>29</th>\n",
       "      <td>12/26/2022</td>\n",
       "      <td>ajay</td>\n",
       "      <td>raghotham</td>\n",
       "      <td>srinidhi</td>\n",
       "      <td>aakarsh</td>\n",
       "      <td>21</td>\n",
       "      <td>15</td>\n",
       "      <td>isro match point</td>\n",
       "      <td>team_1</td>\n",
       "      <td>6</td>\n",
       "      <td>36</td>\n",
       "      <td>35 - 40</td>\n",
       "      <td>team_1</td>\n",
       "      <td>21</td>\n",
       "      <td>win</td>\n",
       "      <td>1</td>\n",
       "      <td>ajay</td>\n",
       "    </tr>\n",
       "    <tr>\n",
       "      <th>30</th>\n",
       "      <td>12/26/2022</td>\n",
       "      <td>ajay</td>\n",
       "      <td>raghotham</td>\n",
       "      <td>swaroop</td>\n",
       "      <td>vatsa</td>\n",
       "      <td>21</td>\n",
       "      <td>18</td>\n",
       "      <td>isro match point</td>\n",
       "      <td>team_1</td>\n",
       "      <td>3</td>\n",
       "      <td>39</td>\n",
       "      <td>35 - 40</td>\n",
       "      <td>team_1</td>\n",
       "      <td>21</td>\n",
       "      <td>win</td>\n",
       "      <td>1</td>\n",
       "      <td>ajay</td>\n",
       "    </tr>\n",
       "    <tr>\n",
       "      <th>31</th>\n",
       "      <td>12/26/2022</td>\n",
       "      <td>ajay</td>\n",
       "      <td>raghotham</td>\n",
       "      <td>srinidhi</td>\n",
       "      <td>aakarsh</td>\n",
       "      <td>21</td>\n",
       "      <td>15</td>\n",
       "      <td>isro match point</td>\n",
       "      <td>team_1</td>\n",
       "      <td>6</td>\n",
       "      <td>36</td>\n",
       "      <td>35 - 40</td>\n",
       "      <td>team_1</td>\n",
       "      <td>21</td>\n",
       "      <td>win</td>\n",
       "      <td>1</td>\n",
       "      <td>ajay</td>\n",
       "    </tr>\n",
       "    <tr>\n",
       "      <th>32</th>\n",
       "      <td>12/26/2022</td>\n",
       "      <td>ajay</td>\n",
       "      <td>raghotham</td>\n",
       "      <td>swaroop</td>\n",
       "      <td>vatsa</td>\n",
       "      <td>21</td>\n",
       "      <td>10</td>\n",
       "      <td>isro match point</td>\n",
       "      <td>team_1</td>\n",
       "      <td>11</td>\n",
       "      <td>31</td>\n",
       "      <td>30 - 35</td>\n",
       "      <td>team_1</td>\n",
       "      <td>21</td>\n",
       "      <td>win</td>\n",
       "      <td>1</td>\n",
       "      <td>ajay</td>\n",
       "    </tr>\n",
       "    <tr>\n",
       "      <th>33</th>\n",
       "      <td>12/26/2022</td>\n",
       "      <td>ajay</td>\n",
       "      <td>raghotham</td>\n",
       "      <td>srinidhi</td>\n",
       "      <td>aakarsh</td>\n",
       "      <td>18</td>\n",
       "      <td>21</td>\n",
       "      <td>isro match point</td>\n",
       "      <td>team_2</td>\n",
       "      <td>3</td>\n",
       "      <td>39</td>\n",
       "      <td>35 - 40</td>\n",
       "      <td>team_1</td>\n",
       "      <td>18</td>\n",
       "      <td>loss</td>\n",
       "      <td>0</td>\n",
       "      <td>ajay</td>\n",
       "    </tr>\n",
       "    <tr>\n",
       "      <th>34</th>\n",
       "      <td>12/26/2022</td>\n",
       "      <td>ajay</td>\n",
       "      <td>raghotham</td>\n",
       "      <td>srinidhi</td>\n",
       "      <td>aakarsh</td>\n",
       "      <td>15</td>\n",
       "      <td>21</td>\n",
       "      <td>isro match point</td>\n",
       "      <td>team_2</td>\n",
       "      <td>6</td>\n",
       "      <td>36</td>\n",
       "      <td>35 - 40</td>\n",
       "      <td>team_1</td>\n",
       "      <td>15</td>\n",
       "      <td>loss</td>\n",
       "      <td>0</td>\n",
       "      <td>ajay</td>\n",
       "    </tr>\n",
       "    <tr>\n",
       "      <th>35</th>\n",
       "      <td>12/26/2022</td>\n",
       "      <td>ajay</td>\n",
       "      <td>raghotham</td>\n",
       "      <td>srinidhi</td>\n",
       "      <td>aakarsh</td>\n",
       "      <td>21</td>\n",
       "      <td>12</td>\n",
       "      <td>isro match point</td>\n",
       "      <td>team_1</td>\n",
       "      <td>9</td>\n",
       "      <td>33</td>\n",
       "      <td>30 - 35</td>\n",
       "      <td>team_1</td>\n",
       "      <td>21</td>\n",
       "      <td>win</td>\n",
       "      <td>1</td>\n",
       "      <td>ajay</td>\n",
       "    </tr>\n",
       "    <tr>\n",
       "      <th>36</th>\n",
       "      <td>12/26/2022</td>\n",
       "      <td>nithin</td>\n",
       "      <td>raghotham</td>\n",
       "      <td>ajay</td>\n",
       "      <td>vinay</td>\n",
       "      <td>21</td>\n",
       "      <td>15</td>\n",
       "      <td>match point - gublaala</td>\n",
       "      <td>team_1</td>\n",
       "      <td>6</td>\n",
       "      <td>36</td>\n",
       "      <td>35 - 40</td>\n",
       "      <td>team_1</td>\n",
       "      <td>21</td>\n",
       "      <td>win</td>\n",
       "      <td>1</td>\n",
       "      <td>nithin</td>\n",
       "    </tr>\n",
       "    <tr>\n",
       "      <th>37</th>\n",
       "      <td>12/26/2022</td>\n",
       "      <td>nithin</td>\n",
       "      <td>raghotham</td>\n",
       "      <td>ajay</td>\n",
       "      <td>vinay</td>\n",
       "      <td>18</td>\n",
       "      <td>21</td>\n",
       "      <td>match point - gublaala</td>\n",
       "      <td>team_2</td>\n",
       "      <td>3</td>\n",
       "      <td>39</td>\n",
       "      <td>35 - 40</td>\n",
       "      <td>team_1</td>\n",
       "      <td>18</td>\n",
       "      <td>loss</td>\n",
       "      <td>0</td>\n",
       "      <td>nithin</td>\n",
       "    </tr>\n",
       "    <tr>\n",
       "      <th>38</th>\n",
       "      <td>12/26/2022</td>\n",
       "      <td>nithin</td>\n",
       "      <td>raghotham</td>\n",
       "      <td>ajay</td>\n",
       "      <td>vinay</td>\n",
       "      <td>16</td>\n",
       "      <td>21</td>\n",
       "      <td>match point - gublaala</td>\n",
       "      <td>team_2</td>\n",
       "      <td>5</td>\n",
       "      <td>37</td>\n",
       "      <td>35 - 40</td>\n",
       "      <td>team_1</td>\n",
       "      <td>16</td>\n",
       "      <td>loss</td>\n",
       "      <td>0</td>\n",
       "      <td>nithin</td>\n",
       "    </tr>\n",
       "    <tr>\n",
       "      <th>39</th>\n",
       "      <td>12/26/2022</td>\n",
       "      <td>nithin</td>\n",
       "      <td>raghotham</td>\n",
       "      <td>sameer</td>\n",
       "      <td>vinay</td>\n",
       "      <td>21</td>\n",
       "      <td>17</td>\n",
       "      <td>match point - gublaala</td>\n",
       "      <td>team_1</td>\n",
       "      <td>4</td>\n",
       "      <td>38</td>\n",
       "      <td>35 - 40</td>\n",
       "      <td>team_1</td>\n",
       "      <td>21</td>\n",
       "      <td>win</td>\n",
       "      <td>1</td>\n",
       "      <td>nithin</td>\n",
       "    </tr>\n",
       "    <tr>\n",
       "      <th>40</th>\n",
       "      <td>12/26/2022</td>\n",
       "      <td>ajay</td>\n",
       "      <td>raghotham</td>\n",
       "      <td>sameer</td>\n",
       "      <td>vinay</td>\n",
       "      <td>21</td>\n",
       "      <td>23</td>\n",
       "      <td>match point - gublaala</td>\n",
       "      <td>team_2</td>\n",
       "      <td>2</td>\n",
       "      <td>44</td>\n",
       "      <td>40 - 45</td>\n",
       "      <td>team_1</td>\n",
       "      <td>21</td>\n",
       "      <td>loss</td>\n",
       "      <td>0</td>\n",
       "      <td>ajay</td>\n",
       "    </tr>\n",
       "    <tr>\n",
       "      <th>41</th>\n",
       "      <td>12/26/2022</td>\n",
       "      <td>nithin</td>\n",
       "      <td>raghotham</td>\n",
       "      <td>ajay</td>\n",
       "      <td>vinay</td>\n",
       "      <td>21</td>\n",
       "      <td>13</td>\n",
       "      <td>match point - gublaala</td>\n",
       "      <td>team_1</td>\n",
       "      <td>8</td>\n",
       "      <td>34</td>\n",
       "      <td>30 - 35</td>\n",
       "      <td>team_1</td>\n",
       "      <td>21</td>\n",
       "      <td>win</td>\n",
       "      <td>1</td>\n",
       "      <td>nithin</td>\n",
       "    </tr>\n",
       "    <tr>\n",
       "      <th>42</th>\n",
       "      <td>12/26/2022</td>\n",
       "      <td>nithin</td>\n",
       "      <td>raghotham</td>\n",
       "      <td>ajay</td>\n",
       "      <td>sameer</td>\n",
       "      <td>17</td>\n",
       "      <td>21</td>\n",
       "      <td>match point - gublaala</td>\n",
       "      <td>team_2</td>\n",
       "      <td>4</td>\n",
       "      <td>38</td>\n",
       "      <td>35 - 40</td>\n",
       "      <td>team_1</td>\n",
       "      <td>17</td>\n",
       "      <td>loss</td>\n",
       "      <td>0</td>\n",
       "      <td>nithin</td>\n",
       "    </tr>\n",
       "    <tr>\n",
       "      <th>43</th>\n",
       "      <td>12/26/2022</td>\n",
       "      <td>nithin</td>\n",
       "      <td>raghotham</td>\n",
       "      <td>vinay</td>\n",
       "      <td>sameer</td>\n",
       "      <td>15</td>\n",
       "      <td>21</td>\n",
       "      <td>match point - gublaala</td>\n",
       "      <td>team_2</td>\n",
       "      <td>6</td>\n",
       "      <td>36</td>\n",
       "      <td>35 - 40</td>\n",
       "      <td>team_1</td>\n",
       "      <td>15</td>\n",
       "      <td>loss</td>\n",
       "      <td>0</td>\n",
       "      <td>nithin</td>\n",
       "    </tr>\n",
       "    <tr>\n",
       "      <th>44</th>\n",
       "      <td>12/26/2022</td>\n",
       "      <td>ajay</td>\n",
       "      <td>raghotham</td>\n",
       "      <td>sameer</td>\n",
       "      <td>vinay</td>\n",
       "      <td>21</td>\n",
       "      <td>18</td>\n",
       "      <td>match point - gublaala</td>\n",
       "      <td>team_1</td>\n",
       "      <td>3</td>\n",
       "      <td>39</td>\n",
       "      <td>35 - 40</td>\n",
       "      <td>team_1</td>\n",
       "      <td>21</td>\n",
       "      <td>win</td>\n",
       "      <td>1</td>\n",
       "      <td>ajay</td>\n",
       "    </tr>\n",
       "    <tr>\n",
       "      <th>45</th>\n",
       "      <td>12/26/2022</td>\n",
       "      <td>ajay</td>\n",
       "      <td>raghotham</td>\n",
       "      <td>sameer</td>\n",
       "      <td>vinay</td>\n",
       "      <td>21</td>\n",
       "      <td>14</td>\n",
       "      <td>match point - gublaala</td>\n",
       "      <td>team_1</td>\n",
       "      <td>7</td>\n",
       "      <td>35</td>\n",
       "      <td>35 - 40</td>\n",
       "      <td>team_1</td>\n",
       "      <td>21</td>\n",
       "      <td>win</td>\n",
       "      <td>1</td>\n",
       "      <td>ajay</td>\n",
       "    </tr>\n",
       "    <tr>\n",
       "      <th>46</th>\n",
       "      <td>12/27/2022</td>\n",
       "      <td>vinay</td>\n",
       "      <td>raghotham</td>\n",
       "      <td>ajay</td>\n",
       "      <td>aakarsh</td>\n",
       "      <td>21</td>\n",
       "      <td>17</td>\n",
       "      <td>isro match point</td>\n",
       "      <td>team_1</td>\n",
       "      <td>4</td>\n",
       "      <td>38</td>\n",
       "      <td>35 - 40</td>\n",
       "      <td>team_1</td>\n",
       "      <td>21</td>\n",
       "      <td>win</td>\n",
       "      <td>1</td>\n",
       "      <td>vinay</td>\n",
       "    </tr>\n",
       "    <tr>\n",
       "      <th>47</th>\n",
       "      <td>12/27/2022</td>\n",
       "      <td>vinay</td>\n",
       "      <td>raghotham</td>\n",
       "      <td>ajay</td>\n",
       "      <td>aakarsh</td>\n",
       "      <td>16</td>\n",
       "      <td>21</td>\n",
       "      <td>isro match point</td>\n",
       "      <td>team_2</td>\n",
       "      <td>5</td>\n",
       "      <td>37</td>\n",
       "      <td>35 - 40</td>\n",
       "      <td>team_1</td>\n",
       "      <td>16</td>\n",
       "      <td>loss</td>\n",
       "      <td>0</td>\n",
       "      <td>vinay</td>\n",
       "    </tr>\n",
       "    <tr>\n",
       "      <th>48</th>\n",
       "      <td>12/27/2022</td>\n",
       "      <td>vinay</td>\n",
       "      <td>raghotham</td>\n",
       "      <td>ajay</td>\n",
       "      <td>aakarsh</td>\n",
       "      <td>21</td>\n",
       "      <td>18</td>\n",
       "      <td>isro match point</td>\n",
       "      <td>team_1</td>\n",
       "      <td>3</td>\n",
       "      <td>39</td>\n",
       "      <td>35 - 40</td>\n",
       "      <td>team_1</td>\n",
       "      <td>21</td>\n",
       "      <td>win</td>\n",
       "      <td>1</td>\n",
       "      <td>vinay</td>\n",
       "    </tr>\n",
       "    <tr>\n",
       "      <th>49</th>\n",
       "      <td>12/27/2022</td>\n",
       "      <td>vinay</td>\n",
       "      <td>raghotham</td>\n",
       "      <td>ajay</td>\n",
       "      <td>aakarsh</td>\n",
       "      <td>21</td>\n",
       "      <td>11</td>\n",
       "      <td>isro match point</td>\n",
       "      <td>team_1</td>\n",
       "      <td>10</td>\n",
       "      <td>32</td>\n",
       "      <td>30 - 35</td>\n",
       "      <td>team_1</td>\n",
       "      <td>21</td>\n",
       "      <td>win</td>\n",
       "      <td>1</td>\n",
       "      <td>vinay</td>\n",
       "    </tr>\n",
       "    <tr>\n",
       "      <th>50</th>\n",
       "      <td>12/27/2022</td>\n",
       "      <td>vinay</td>\n",
       "      <td>raghotham</td>\n",
       "      <td>ajay</td>\n",
       "      <td>aakarsh</td>\n",
       "      <td>21</td>\n",
       "      <td>18</td>\n",
       "      <td>isro match point</td>\n",
       "      <td>team_1</td>\n",
       "      <td>3</td>\n",
       "      <td>39</td>\n",
       "      <td>35 - 40</td>\n",
       "      <td>team_1</td>\n",
       "      <td>21</td>\n",
       "      <td>win</td>\n",
       "      <td>1</td>\n",
       "      <td>vinay</td>\n",
       "    </tr>\n",
       "    <tr>\n",
       "      <th>51</th>\n",
       "      <td>12/27/2022</td>\n",
       "      <td>vinay</td>\n",
       "      <td>raghotham</td>\n",
       "      <td>ajay</td>\n",
       "      <td>aakarsh</td>\n",
       "      <td>21</td>\n",
       "      <td>18</td>\n",
       "      <td>isro match point</td>\n",
       "      <td>team_1</td>\n",
       "      <td>3</td>\n",
       "      <td>39</td>\n",
       "      <td>35 - 40</td>\n",
       "      <td>team_1</td>\n",
       "      <td>21</td>\n",
       "      <td>win</td>\n",
       "      <td>1</td>\n",
       "      <td>vinay</td>\n",
       "    </tr>\n",
       "    <tr>\n",
       "      <th>52</th>\n",
       "      <td>12/27/2022</td>\n",
       "      <td>vinay</td>\n",
       "      <td>raghotham</td>\n",
       "      <td>ajay</td>\n",
       "      <td>aakarsh</td>\n",
       "      <td>15</td>\n",
       "      <td>21</td>\n",
       "      <td>isro match point</td>\n",
       "      <td>team_2</td>\n",
       "      <td>6</td>\n",
       "      <td>36</td>\n",
       "      <td>35 - 40</td>\n",
       "      <td>team_1</td>\n",
       "      <td>15</td>\n",
       "      <td>loss</td>\n",
       "      <td>0</td>\n",
       "      <td>vinay</td>\n",
       "    </tr>\n",
       "    <tr>\n",
       "      <th>53</th>\n",
       "      <td>12/27/2022</td>\n",
       "      <td>vinay</td>\n",
       "      <td>raghotham</td>\n",
       "      <td>ajay</td>\n",
       "      <td>aakarsh</td>\n",
       "      <td>23</td>\n",
       "      <td>21</td>\n",
       "      <td>isro match point</td>\n",
       "      <td>team_1</td>\n",
       "      <td>2</td>\n",
       "      <td>44</td>\n",
       "      <td>40 - 45</td>\n",
       "      <td>team_1</td>\n",
       "      <td>23</td>\n",
       "      <td>win</td>\n",
       "      <td>1</td>\n",
       "      <td>vinay</td>\n",
       "    </tr>\n",
       "  </tbody>\n",
       "</table>\n",
       "</div>"
      ],
      "text/plain": [
       "          date team_1_player_1 team_1_player_2 team_2_player_1  \\\n",
       "0   12/27/2022           vinay       raghotham            ajay   \n",
       "1   12/28/2022           vinay       raghotham            ajay   \n",
       "2   12/28/2022           vinay       raghotham            ajay   \n",
       "3   12/28/2022          sameer       raghotham           vinay   \n",
       "4   12/28/2022          sameer       raghotham            ajay   \n",
       "5   12/28/2022          sameer       raghotham            ajay   \n",
       "6   12/28/2022        srinidhi       raghotham            ajay   \n",
       "7   12/29/2022        srinidhi       raghotham            ajay   \n",
       "8   12/29/2022        srinidhi       raghotham            ajay   \n",
       "9   12/29/2022        srinidhi       raghotham            ajay   \n",
       "10  12/29/2022         prateek       raghotham            ajay   \n",
       "11  12/29/2022         prateek       raghotham            ajay   \n",
       "12  12/29/2022         prateek       raghotham            ajay   \n",
       "13  12/29/2022            ajay       raghotham        srinidhi   \n",
       "14  12/29/2022            ajay       raghotham        srinidhi   \n",
       "15  12/29/2022            ajay       raghotham        srinidhi   \n",
       "16  12/30/2022          nithin       raghotham            ajay   \n",
       "17  12/30/2022          nithin       raghotham        srinidhi   \n",
       "18  12/30/2022          nithin       raghotham            ajay   \n",
       "19  12/30/2022          nithin       raghotham        srinidhi   \n",
       "20  12/30/2022          nithin       raghotham            ajay   \n",
       "21  12/30/2022          nithin       raghotham        srinidhi   \n",
       "22  12/30/2022          nithin       raghotham            ajay   \n",
       "23  12/30/2022          nithin       raghotham            ajay   \n",
       "24  12/30/2022           vinay       raghotham            ajay   \n",
       "25  12/30/2022           vinay       raghotham            ajay   \n",
       "26  12/24/2022            ajay       raghotham         shankar   \n",
       "27  12/24/2022            ajay       raghotham           vatsa   \n",
       "28  12/26/2022        srinidhi       raghotham            ajay   \n",
       "29  12/26/2022            ajay       raghotham        srinidhi   \n",
       "30  12/26/2022            ajay       raghotham         swaroop   \n",
       "31  12/26/2022            ajay       raghotham        srinidhi   \n",
       "32  12/26/2022            ajay       raghotham         swaroop   \n",
       "33  12/26/2022            ajay       raghotham        srinidhi   \n",
       "34  12/26/2022            ajay       raghotham        srinidhi   \n",
       "35  12/26/2022            ajay       raghotham        srinidhi   \n",
       "36  12/26/2022          nithin       raghotham            ajay   \n",
       "37  12/26/2022          nithin       raghotham            ajay   \n",
       "38  12/26/2022          nithin       raghotham            ajay   \n",
       "39  12/26/2022          nithin       raghotham          sameer   \n",
       "40  12/26/2022            ajay       raghotham          sameer   \n",
       "41  12/26/2022          nithin       raghotham            ajay   \n",
       "42  12/26/2022          nithin       raghotham            ajay   \n",
       "43  12/26/2022          nithin       raghotham           vinay   \n",
       "44  12/26/2022            ajay       raghotham          sameer   \n",
       "45  12/26/2022            ajay       raghotham          sameer   \n",
       "46  12/27/2022           vinay       raghotham            ajay   \n",
       "47  12/27/2022           vinay       raghotham            ajay   \n",
       "48  12/27/2022           vinay       raghotham            ajay   \n",
       "49  12/27/2022           vinay       raghotham            ajay   \n",
       "50  12/27/2022           vinay       raghotham            ajay   \n",
       "51  12/27/2022           vinay       raghotham            ajay   \n",
       "52  12/27/2022           vinay       raghotham            ajay   \n",
       "53  12/27/2022           vinay       raghotham            ajay   \n",
       "\n",
       "   team_2_player_2  points_team_1  points_team_2                      venue  \\\n",
       "0          aakarsh             15             21           isro match point   \n",
       "1           sameer             25             27           isro match point   \n",
       "2         srinidhi             21             18           isro match point   \n",
       "3         srinidhi             14             21           isro match point   \n",
       "4         srinidhi             21             18           isro match point   \n",
       "5            vinay             24             26           isro match point   \n",
       "6            vinay             19             21           isro match point   \n",
       "7          prateek             21             16           isro match point   \n",
       "8          prateek             22             24           isro match point   \n",
       "9          prateek             22             20           isro match point   \n",
       "10        srinidhi             21             18           isro match point   \n",
       "11        srinidhi             20             22           isro match point   \n",
       "12        srinidhi             21             12           isro match point   \n",
       "13         prateek             21             11           isro match point   \n",
       "14         prateek             21             18           isro match point   \n",
       "15         prateek             21             15           isro match point   \n",
       "16           vinay             14             21  prakash badminton academy   \n",
       "17         aakarsh             20             22  prakash badminton academy   \n",
       "18           vinay             14             21  prakash badminton academy   \n",
       "19         aakarsh             21             14  prakash badminton academy   \n",
       "20           vinay             20             22  prakash badminton academy   \n",
       "21         aakarsh             20             22  prakash badminton academy   \n",
       "22           vinay             14             21  prakash badminton academy   \n",
       "23         aakarsh             10             21  prakash badminton academy   \n",
       "24         aakarsh             21             13  prakash badminton academy   \n",
       "25         aakarsh             23             21  prakash badminton academy   \n",
       "26         swaroop             21             15     match point - gublaala   \n",
       "27          nayana             21             19     match point - gublaala   \n",
       "28         aakarsh             21             15           isro match point   \n",
       "29         aakarsh             21             15           isro match point   \n",
       "30           vatsa             21             18           isro match point   \n",
       "31         aakarsh             21             15           isro match point   \n",
       "32           vatsa             21             10           isro match point   \n",
       "33         aakarsh             18             21           isro match point   \n",
       "34         aakarsh             15             21           isro match point   \n",
       "35         aakarsh             21             12           isro match point   \n",
       "36           vinay             21             15     match point - gublaala   \n",
       "37           vinay             18             21     match point - gublaala   \n",
       "38           vinay             16             21     match point - gublaala   \n",
       "39           vinay             21             17     match point - gublaala   \n",
       "40           vinay             21             23     match point - gublaala   \n",
       "41           vinay             21             13     match point - gublaala   \n",
       "42          sameer             17             21     match point - gublaala   \n",
       "43          sameer             15             21     match point - gublaala   \n",
       "44           vinay             21             18     match point - gublaala   \n",
       "45           vinay             21             14     match point - gublaala   \n",
       "46         aakarsh             21             17           isro match point   \n",
       "47         aakarsh             16             21           isro match point   \n",
       "48         aakarsh             21             18           isro match point   \n",
       "49         aakarsh             21             11           isro match point   \n",
       "50         aakarsh             21             18           isro match point   \n",
       "51         aakarsh             21             18           isro match point   \n",
       "52         aakarsh             15             21           isro match point   \n",
       "53         aakarsh             23             21           isro match point   \n",
       "\n",
       "    winner  margin  total_points_per_game point_bins belongs_to  \\\n",
       "0   team_2       6                     36    35 - 40     team_1   \n",
       "1   team_2       2                     52       > 45     team_1   \n",
       "2   team_1       3                     39    35 - 40     team_1   \n",
       "3   team_2       7                     35    35 - 40     team_1   \n",
       "4   team_1       3                     39    35 - 40     team_1   \n",
       "5   team_2       2                     50       > 45     team_1   \n",
       "6   team_2       2                     40    40 - 45     team_1   \n",
       "7   team_1       5                     37    35 - 40     team_1   \n",
       "8   team_2       2                     46       > 45     team_1   \n",
       "9   team_1       2                     42    40 - 45     team_1   \n",
       "10  team_1       3                     39    35 - 40     team_1   \n",
       "11  team_2       2                     42    40 - 45     team_1   \n",
       "12  team_1       9                     33    30 - 35     team_1   \n",
       "13  team_1      10                     32    30 - 35     team_1   \n",
       "14  team_1       3                     39    35 - 40     team_1   \n",
       "15  team_1       6                     36    35 - 40     team_1   \n",
       "16  team_2       7                     35    35 - 40     team_1   \n",
       "17  team_2       2                     42    40 - 45     team_1   \n",
       "18  team_2       7                     35    35 - 40     team_1   \n",
       "19  team_1       7                     35    35 - 40     team_1   \n",
       "20  team_2       2                     42    40 - 45     team_1   \n",
       "21  team_2       2                     42    40 - 45     team_1   \n",
       "22  team_2       7                     35    35 - 40     team_1   \n",
       "23  team_2      11                     31    30 - 35     team_1   \n",
       "24  team_1       8                     34    30 - 35     team_1   \n",
       "25  team_1       2                     44    40 - 45     team_1   \n",
       "26  team_1       6                     36    35 - 40     team_1   \n",
       "27  team_1       2                     40    40 - 45     team_1   \n",
       "28  team_1       6                     36    35 - 40     team_1   \n",
       "29  team_1       6                     36    35 - 40     team_1   \n",
       "30  team_1       3                     39    35 - 40     team_1   \n",
       "31  team_1       6                     36    35 - 40     team_1   \n",
       "32  team_1      11                     31    30 - 35     team_1   \n",
       "33  team_2       3                     39    35 - 40     team_1   \n",
       "34  team_2       6                     36    35 - 40     team_1   \n",
       "35  team_1       9                     33    30 - 35     team_1   \n",
       "36  team_1       6                     36    35 - 40     team_1   \n",
       "37  team_2       3                     39    35 - 40     team_1   \n",
       "38  team_2       5                     37    35 - 40     team_1   \n",
       "39  team_1       4                     38    35 - 40     team_1   \n",
       "40  team_2       2                     44    40 - 45     team_1   \n",
       "41  team_1       8                     34    30 - 35     team_1   \n",
       "42  team_2       4                     38    35 - 40     team_1   \n",
       "43  team_2       6                     36    35 - 40     team_1   \n",
       "44  team_1       3                     39    35 - 40     team_1   \n",
       "45  team_1       7                     35    35 - 40     team_1   \n",
       "46  team_1       4                     38    35 - 40     team_1   \n",
       "47  team_2       5                     37    35 - 40     team_1   \n",
       "48  team_1       3                     39    35 - 40     team_1   \n",
       "49  team_1      10                     32    30 - 35     team_1   \n",
       "50  team_1       3                     39    35 - 40     team_1   \n",
       "51  team_1       3                     39    35 - 40     team_1   \n",
       "52  team_2       6                     36    35 - 40     team_1   \n",
       "53  team_1       2                     44    40 - 45     team_1   \n",
       "\n",
       "    player_team_points result  is_win   partner  \n",
       "0                   15   loss       0     vinay  \n",
       "1                   25   loss       0     vinay  \n",
       "2                   21    win       1     vinay  \n",
       "3                   14   loss       0    sameer  \n",
       "4                   21    win       1    sameer  \n",
       "5                   24   loss       0    sameer  \n",
       "6                   19   loss       0  srinidhi  \n",
       "7                   21    win       1  srinidhi  \n",
       "8                   22   loss       0  srinidhi  \n",
       "9                   22    win       1  srinidhi  \n",
       "10                  21    win       1   prateek  \n",
       "11                  20   loss       0   prateek  \n",
       "12                  21    win       1   prateek  \n",
       "13                  21    win       1      ajay  \n",
       "14                  21    win       1      ajay  \n",
       "15                  21    win       1      ajay  \n",
       "16                  14   loss       0    nithin  \n",
       "17                  20   loss       0    nithin  \n",
       "18                  14   loss       0    nithin  \n",
       "19                  21    win       1    nithin  \n",
       "20                  20   loss       0    nithin  \n",
       "21                  20   loss       0    nithin  \n",
       "22                  14   loss       0    nithin  \n",
       "23                  10   loss       0    nithin  \n",
       "24                  21    win       1     vinay  \n",
       "25                  23    win       1     vinay  \n",
       "26                  21    win       1      ajay  \n",
       "27                  21    win       1      ajay  \n",
       "28                  21    win       1  srinidhi  \n",
       "29                  21    win       1      ajay  \n",
       "30                  21    win       1      ajay  \n",
       "31                  21    win       1      ajay  \n",
       "32                  21    win       1      ajay  \n",
       "33                  18   loss       0      ajay  \n",
       "34                  15   loss       0      ajay  \n",
       "35                  21    win       1      ajay  \n",
       "36                  21    win       1    nithin  \n",
       "37                  18   loss       0    nithin  \n",
       "38                  16   loss       0    nithin  \n",
       "39                  21    win       1    nithin  \n",
       "40                  21   loss       0      ajay  \n",
       "41                  21    win       1    nithin  \n",
       "42                  17   loss       0    nithin  \n",
       "43                  15   loss       0    nithin  \n",
       "44                  21    win       1      ajay  \n",
       "45                  21    win       1      ajay  \n",
       "46                  21    win       1     vinay  \n",
       "47                  16   loss       0     vinay  \n",
       "48                  21    win       1     vinay  \n",
       "49                  21    win       1     vinay  \n",
       "50                  21    win       1     vinay  \n",
       "51                  21    win       1     vinay  \n",
       "52                  15   loss       0     vinay  \n",
       "53                  23    win       1     vinay  "
      ]
     },
     "execution_count": 13,
     "metadata": {},
     "output_type": "execute_result"
    }
   ],
   "source": [
    "player_matches"
   ]
  },
  {
   "cell_type": "code",
   "execution_count": 21,
   "id": "1d98fc10",
   "metadata": {},
   "outputs": [],
   "source": [
    "head_2_head_df = player_matches[np.where(\n",
    "    player_matches['belongs_to'] == 'team_1',\n",
    "    np.logical_and.reduce([\n",
    "        player_matches['partner'] == team_1[1],\n",
    "        player_matches['team_2_player_1'].isin(team_2),\n",
    "        player_matches['team_2_player_2'].isin(team_2),\n",
    "    ]),\n",
    "    np.logical_and.reduce([\n",
    "        player_matches['partner'] == team_1[1],\n",
    "        player_matches['team_1_player_1'].isin(team_2),\n",
    "        player_matches['team_1_player_2'].isin(team_2),\n",
    "    ])\n",
    ")]"
   ]
  },
  {
   "cell_type": "code",
   "execution_count": 22,
   "id": "d74a9f81",
   "metadata": {},
   "outputs": [
    {
     "data": {
      "text/html": [
       "<div>\n",
       "<style scoped>\n",
       "    .dataframe tbody tr th:only-of-type {\n",
       "        vertical-align: middle;\n",
       "    }\n",
       "\n",
       "    .dataframe tbody tr th {\n",
       "        vertical-align: top;\n",
       "    }\n",
       "\n",
       "    .dataframe thead th {\n",
       "        text-align: right;\n",
       "    }\n",
       "</style>\n",
       "<table border=\"1\" class=\"dataframe\">\n",
       "  <thead>\n",
       "    <tr style=\"text-align: right;\">\n",
       "      <th></th>\n",
       "      <th>date</th>\n",
       "      <th>team_1_player_1</th>\n",
       "      <th>team_1_player_2</th>\n",
       "      <th>team_2_player_1</th>\n",
       "      <th>team_2_player_2</th>\n",
       "      <th>points_team_1</th>\n",
       "      <th>points_team_2</th>\n",
       "      <th>venue</th>\n",
       "      <th>winner</th>\n",
       "      <th>margin</th>\n",
       "      <th>total_points_per_game</th>\n",
       "      <th>point_bins</th>\n",
       "      <th>belongs_to</th>\n",
       "      <th>player_team_points</th>\n",
       "      <th>result</th>\n",
       "      <th>is_win</th>\n",
       "      <th>partner</th>\n",
       "    </tr>\n",
       "  </thead>\n",
       "  <tbody>\n",
       "    <tr>\n",
       "      <th>16</th>\n",
       "      <td>12/30/2022</td>\n",
       "      <td>nithin</td>\n",
       "      <td>raghotham</td>\n",
       "      <td>ajay</td>\n",
       "      <td>vinay</td>\n",
       "      <td>14</td>\n",
       "      <td>21</td>\n",
       "      <td>prakash badminton academy</td>\n",
       "      <td>team_2</td>\n",
       "      <td>7</td>\n",
       "      <td>35</td>\n",
       "      <td>35 - 40</td>\n",
       "      <td>team_1</td>\n",
       "      <td>14</td>\n",
       "      <td>loss</td>\n",
       "      <td>0</td>\n",
       "      <td>nithin</td>\n",
       "    </tr>\n",
       "    <tr>\n",
       "      <th>18</th>\n",
       "      <td>12/30/2022</td>\n",
       "      <td>nithin</td>\n",
       "      <td>raghotham</td>\n",
       "      <td>ajay</td>\n",
       "      <td>vinay</td>\n",
       "      <td>14</td>\n",
       "      <td>21</td>\n",
       "      <td>prakash badminton academy</td>\n",
       "      <td>team_2</td>\n",
       "      <td>7</td>\n",
       "      <td>35</td>\n",
       "      <td>35 - 40</td>\n",
       "      <td>team_1</td>\n",
       "      <td>14</td>\n",
       "      <td>loss</td>\n",
       "      <td>0</td>\n",
       "      <td>nithin</td>\n",
       "    </tr>\n",
       "    <tr>\n",
       "      <th>20</th>\n",
       "      <td>12/30/2022</td>\n",
       "      <td>nithin</td>\n",
       "      <td>raghotham</td>\n",
       "      <td>ajay</td>\n",
       "      <td>vinay</td>\n",
       "      <td>20</td>\n",
       "      <td>22</td>\n",
       "      <td>prakash badminton academy</td>\n",
       "      <td>team_2</td>\n",
       "      <td>2</td>\n",
       "      <td>42</td>\n",
       "      <td>40 - 45</td>\n",
       "      <td>team_1</td>\n",
       "      <td>20</td>\n",
       "      <td>loss</td>\n",
       "      <td>0</td>\n",
       "      <td>nithin</td>\n",
       "    </tr>\n",
       "    <tr>\n",
       "      <th>22</th>\n",
       "      <td>12/30/2022</td>\n",
       "      <td>nithin</td>\n",
       "      <td>raghotham</td>\n",
       "      <td>ajay</td>\n",
       "      <td>vinay</td>\n",
       "      <td>14</td>\n",
       "      <td>21</td>\n",
       "      <td>prakash badminton academy</td>\n",
       "      <td>team_2</td>\n",
       "      <td>7</td>\n",
       "      <td>35</td>\n",
       "      <td>35 - 40</td>\n",
       "      <td>team_1</td>\n",
       "      <td>14</td>\n",
       "      <td>loss</td>\n",
       "      <td>0</td>\n",
       "      <td>nithin</td>\n",
       "    </tr>\n",
       "    <tr>\n",
       "      <th>36</th>\n",
       "      <td>12/26/2022</td>\n",
       "      <td>nithin</td>\n",
       "      <td>raghotham</td>\n",
       "      <td>ajay</td>\n",
       "      <td>vinay</td>\n",
       "      <td>21</td>\n",
       "      <td>15</td>\n",
       "      <td>match point - gublaala</td>\n",
       "      <td>team_1</td>\n",
       "      <td>6</td>\n",
       "      <td>36</td>\n",
       "      <td>35 - 40</td>\n",
       "      <td>team_1</td>\n",
       "      <td>21</td>\n",
       "      <td>win</td>\n",
       "      <td>1</td>\n",
       "      <td>nithin</td>\n",
       "    </tr>\n",
       "    <tr>\n",
       "      <th>37</th>\n",
       "      <td>12/26/2022</td>\n",
       "      <td>nithin</td>\n",
       "      <td>raghotham</td>\n",
       "      <td>ajay</td>\n",
       "      <td>vinay</td>\n",
       "      <td>18</td>\n",
       "      <td>21</td>\n",
       "      <td>match point - gublaala</td>\n",
       "      <td>team_2</td>\n",
       "      <td>3</td>\n",
       "      <td>39</td>\n",
       "      <td>35 - 40</td>\n",
       "      <td>team_1</td>\n",
       "      <td>18</td>\n",
       "      <td>loss</td>\n",
       "      <td>0</td>\n",
       "      <td>nithin</td>\n",
       "    </tr>\n",
       "    <tr>\n",
       "      <th>38</th>\n",
       "      <td>12/26/2022</td>\n",
       "      <td>nithin</td>\n",
       "      <td>raghotham</td>\n",
       "      <td>ajay</td>\n",
       "      <td>vinay</td>\n",
       "      <td>16</td>\n",
       "      <td>21</td>\n",
       "      <td>match point - gublaala</td>\n",
       "      <td>team_2</td>\n",
       "      <td>5</td>\n",
       "      <td>37</td>\n",
       "      <td>35 - 40</td>\n",
       "      <td>team_1</td>\n",
       "      <td>16</td>\n",
       "      <td>loss</td>\n",
       "      <td>0</td>\n",
       "      <td>nithin</td>\n",
       "    </tr>\n",
       "    <tr>\n",
       "      <th>41</th>\n",
       "      <td>12/26/2022</td>\n",
       "      <td>nithin</td>\n",
       "      <td>raghotham</td>\n",
       "      <td>ajay</td>\n",
       "      <td>vinay</td>\n",
       "      <td>21</td>\n",
       "      <td>13</td>\n",
       "      <td>match point - gublaala</td>\n",
       "      <td>team_1</td>\n",
       "      <td>8</td>\n",
       "      <td>34</td>\n",
       "      <td>30 - 35</td>\n",
       "      <td>team_1</td>\n",
       "      <td>21</td>\n",
       "      <td>win</td>\n",
       "      <td>1</td>\n",
       "      <td>nithin</td>\n",
       "    </tr>\n",
       "  </tbody>\n",
       "</table>\n",
       "</div>"
      ],
      "text/plain": [
       "          date team_1_player_1 team_1_player_2 team_2_player_1  \\\n",
       "16  12/30/2022          nithin       raghotham            ajay   \n",
       "18  12/30/2022          nithin       raghotham            ajay   \n",
       "20  12/30/2022          nithin       raghotham            ajay   \n",
       "22  12/30/2022          nithin       raghotham            ajay   \n",
       "36  12/26/2022          nithin       raghotham            ajay   \n",
       "37  12/26/2022          nithin       raghotham            ajay   \n",
       "38  12/26/2022          nithin       raghotham            ajay   \n",
       "41  12/26/2022          nithin       raghotham            ajay   \n",
       "\n",
       "   team_2_player_2  points_team_1  points_team_2                      venue  \\\n",
       "16           vinay             14             21  prakash badminton academy   \n",
       "18           vinay             14             21  prakash badminton academy   \n",
       "20           vinay             20             22  prakash badminton academy   \n",
       "22           vinay             14             21  prakash badminton academy   \n",
       "36           vinay             21             15     match point - gublaala   \n",
       "37           vinay             18             21     match point - gublaala   \n",
       "38           vinay             16             21     match point - gublaala   \n",
       "41           vinay             21             13     match point - gublaala   \n",
       "\n",
       "    winner  margin  total_points_per_game point_bins belongs_to  \\\n",
       "16  team_2       7                     35    35 - 40     team_1   \n",
       "18  team_2       7                     35    35 - 40     team_1   \n",
       "20  team_2       2                     42    40 - 45     team_1   \n",
       "22  team_2       7                     35    35 - 40     team_1   \n",
       "36  team_1       6                     36    35 - 40     team_1   \n",
       "37  team_2       3                     39    35 - 40     team_1   \n",
       "38  team_2       5                     37    35 - 40     team_1   \n",
       "41  team_1       8                     34    30 - 35     team_1   \n",
       "\n",
       "    player_team_points result  is_win partner  \n",
       "16                  14   loss       0  nithin  \n",
       "18                  14   loss       0  nithin  \n",
       "20                  20   loss       0  nithin  \n",
       "22                  14   loss       0  nithin  \n",
       "36                  21    win       1  nithin  \n",
       "37                  18   loss       0  nithin  \n",
       "38                  16   loss       0  nithin  \n",
       "41                  21    win       1  nithin  "
      ]
     },
     "execution_count": 22,
     "metadata": {},
     "output_type": "execute_result"
    }
   ],
   "source": [
    "head_2_head_df"
   ]
  },
  {
   "cell_type": "code",
   "execution_count": 40,
   "id": "d9640660",
   "metadata": {},
   "outputs": [
    {
     "data": {
      "application/vnd.plotly.v1+json": {
       "config": {
        "plotlyServerURL": "https://plot.ly"
       },
       "data": [
        {
         "cells": {
          "values": [
           [
            "12/30/2022",
            "12/30/2022",
            "12/30/2022",
            "12/30/2022",
            "12/26/2022",
            "12/26/2022",
            "12/26/2022",
            "12/26/2022"
           ],
           [
            "nithin",
            "nithin",
            "nithin",
            "nithin",
            "nithin",
            "nithin",
            "nithin",
            "nithin"
           ],
           [
            "raghotham",
            "raghotham",
            "raghotham",
            "raghotham",
            "raghotham",
            "raghotham",
            "raghotham",
            "raghotham"
           ],
           [
            "ajay",
            "ajay",
            "ajay",
            "ajay",
            "ajay",
            "ajay",
            "ajay",
            "ajay"
           ],
           [
            "vinay",
            "vinay",
            "vinay",
            "vinay",
            "vinay",
            "vinay",
            "vinay",
            "vinay"
           ]
          ]
         },
         "header": {
          "values": [
           "date",
           "team_1_player_1",
           "team_1_player_2",
           "team_2_player_1",
           "team_2_player_2"
          ]
         },
         "type": "table"
        }
       ],
       "layout": {
        "template": {
         "data": {
          "bar": [
           {
            "error_x": {
             "color": "#2a3f5f"
            },
            "error_y": {
             "color": "#2a3f5f"
            },
            "marker": {
             "line": {
              "color": "#E5ECF6",
              "width": 0.5
             },
             "pattern": {
              "fillmode": "overlay",
              "size": 10,
              "solidity": 0.2
             }
            },
            "type": "bar"
           }
          ],
          "barpolar": [
           {
            "marker": {
             "line": {
              "color": "#E5ECF6",
              "width": 0.5
             },
             "pattern": {
              "fillmode": "overlay",
              "size": 10,
              "solidity": 0.2
             }
            },
            "type": "barpolar"
           }
          ],
          "carpet": [
           {
            "aaxis": {
             "endlinecolor": "#2a3f5f",
             "gridcolor": "white",
             "linecolor": "white",
             "minorgridcolor": "white",
             "startlinecolor": "#2a3f5f"
            },
            "baxis": {
             "endlinecolor": "#2a3f5f",
             "gridcolor": "white",
             "linecolor": "white",
             "minorgridcolor": "white",
             "startlinecolor": "#2a3f5f"
            },
            "type": "carpet"
           }
          ],
          "choropleth": [
           {
            "colorbar": {
             "outlinewidth": 0,
             "ticks": ""
            },
            "type": "choropleth"
           }
          ],
          "contour": [
           {
            "colorbar": {
             "outlinewidth": 0,
             "ticks": ""
            },
            "colorscale": [
             [
              0,
              "#0d0887"
             ],
             [
              0.1111111111111111,
              "#46039f"
             ],
             [
              0.2222222222222222,
              "#7201a8"
             ],
             [
              0.3333333333333333,
              "#9c179e"
             ],
             [
              0.4444444444444444,
              "#bd3786"
             ],
             [
              0.5555555555555556,
              "#d8576b"
             ],
             [
              0.6666666666666666,
              "#ed7953"
             ],
             [
              0.7777777777777778,
              "#fb9f3a"
             ],
             [
              0.8888888888888888,
              "#fdca26"
             ],
             [
              1,
              "#f0f921"
             ]
            ],
            "type": "contour"
           }
          ],
          "contourcarpet": [
           {
            "colorbar": {
             "outlinewidth": 0,
             "ticks": ""
            },
            "type": "contourcarpet"
           }
          ],
          "heatmap": [
           {
            "colorbar": {
             "outlinewidth": 0,
             "ticks": ""
            },
            "colorscale": [
             [
              0,
              "#0d0887"
             ],
             [
              0.1111111111111111,
              "#46039f"
             ],
             [
              0.2222222222222222,
              "#7201a8"
             ],
             [
              0.3333333333333333,
              "#9c179e"
             ],
             [
              0.4444444444444444,
              "#bd3786"
             ],
             [
              0.5555555555555556,
              "#d8576b"
             ],
             [
              0.6666666666666666,
              "#ed7953"
             ],
             [
              0.7777777777777778,
              "#fb9f3a"
             ],
             [
              0.8888888888888888,
              "#fdca26"
             ],
             [
              1,
              "#f0f921"
             ]
            ],
            "type": "heatmap"
           }
          ],
          "heatmapgl": [
           {
            "colorbar": {
             "outlinewidth": 0,
             "ticks": ""
            },
            "colorscale": [
             [
              0,
              "#0d0887"
             ],
             [
              0.1111111111111111,
              "#46039f"
             ],
             [
              0.2222222222222222,
              "#7201a8"
             ],
             [
              0.3333333333333333,
              "#9c179e"
             ],
             [
              0.4444444444444444,
              "#bd3786"
             ],
             [
              0.5555555555555556,
              "#d8576b"
             ],
             [
              0.6666666666666666,
              "#ed7953"
             ],
             [
              0.7777777777777778,
              "#fb9f3a"
             ],
             [
              0.8888888888888888,
              "#fdca26"
             ],
             [
              1,
              "#f0f921"
             ]
            ],
            "type": "heatmapgl"
           }
          ],
          "histogram": [
           {
            "marker": {
             "pattern": {
              "fillmode": "overlay",
              "size": 10,
              "solidity": 0.2
             }
            },
            "type": "histogram"
           }
          ],
          "histogram2d": [
           {
            "colorbar": {
             "outlinewidth": 0,
             "ticks": ""
            },
            "colorscale": [
             [
              0,
              "#0d0887"
             ],
             [
              0.1111111111111111,
              "#46039f"
             ],
             [
              0.2222222222222222,
              "#7201a8"
             ],
             [
              0.3333333333333333,
              "#9c179e"
             ],
             [
              0.4444444444444444,
              "#bd3786"
             ],
             [
              0.5555555555555556,
              "#d8576b"
             ],
             [
              0.6666666666666666,
              "#ed7953"
             ],
             [
              0.7777777777777778,
              "#fb9f3a"
             ],
             [
              0.8888888888888888,
              "#fdca26"
             ],
             [
              1,
              "#f0f921"
             ]
            ],
            "type": "histogram2d"
           }
          ],
          "histogram2dcontour": [
           {
            "colorbar": {
             "outlinewidth": 0,
             "ticks": ""
            },
            "colorscale": [
             [
              0,
              "#0d0887"
             ],
             [
              0.1111111111111111,
              "#46039f"
             ],
             [
              0.2222222222222222,
              "#7201a8"
             ],
             [
              0.3333333333333333,
              "#9c179e"
             ],
             [
              0.4444444444444444,
              "#bd3786"
             ],
             [
              0.5555555555555556,
              "#d8576b"
             ],
             [
              0.6666666666666666,
              "#ed7953"
             ],
             [
              0.7777777777777778,
              "#fb9f3a"
             ],
             [
              0.8888888888888888,
              "#fdca26"
             ],
             [
              1,
              "#f0f921"
             ]
            ],
            "type": "histogram2dcontour"
           }
          ],
          "mesh3d": [
           {
            "colorbar": {
             "outlinewidth": 0,
             "ticks": ""
            },
            "type": "mesh3d"
           }
          ],
          "parcoords": [
           {
            "line": {
             "colorbar": {
              "outlinewidth": 0,
              "ticks": ""
             }
            },
            "type": "parcoords"
           }
          ],
          "pie": [
           {
            "automargin": true,
            "type": "pie"
           }
          ],
          "scatter": [
           {
            "fillpattern": {
             "fillmode": "overlay",
             "size": 10,
             "solidity": 0.2
            },
            "type": "scatter"
           }
          ],
          "scatter3d": [
           {
            "line": {
             "colorbar": {
              "outlinewidth": 0,
              "ticks": ""
             }
            },
            "marker": {
             "colorbar": {
              "outlinewidth": 0,
              "ticks": ""
             }
            },
            "type": "scatter3d"
           }
          ],
          "scattercarpet": [
           {
            "marker": {
             "colorbar": {
              "outlinewidth": 0,
              "ticks": ""
             }
            },
            "type": "scattercarpet"
           }
          ],
          "scattergeo": [
           {
            "marker": {
             "colorbar": {
              "outlinewidth": 0,
              "ticks": ""
             }
            },
            "type": "scattergeo"
           }
          ],
          "scattergl": [
           {
            "marker": {
             "colorbar": {
              "outlinewidth": 0,
              "ticks": ""
             }
            },
            "type": "scattergl"
           }
          ],
          "scattermapbox": [
           {
            "marker": {
             "colorbar": {
              "outlinewidth": 0,
              "ticks": ""
             }
            },
            "type": "scattermapbox"
           }
          ],
          "scatterpolar": [
           {
            "marker": {
             "colorbar": {
              "outlinewidth": 0,
              "ticks": ""
             }
            },
            "type": "scatterpolar"
           }
          ],
          "scatterpolargl": [
           {
            "marker": {
             "colorbar": {
              "outlinewidth": 0,
              "ticks": ""
             }
            },
            "type": "scatterpolargl"
           }
          ],
          "scatterternary": [
           {
            "marker": {
             "colorbar": {
              "outlinewidth": 0,
              "ticks": ""
             }
            },
            "type": "scatterternary"
           }
          ],
          "surface": [
           {
            "colorbar": {
             "outlinewidth": 0,
             "ticks": ""
            },
            "colorscale": [
             [
              0,
              "#0d0887"
             ],
             [
              0.1111111111111111,
              "#46039f"
             ],
             [
              0.2222222222222222,
              "#7201a8"
             ],
             [
              0.3333333333333333,
              "#9c179e"
             ],
             [
              0.4444444444444444,
              "#bd3786"
             ],
             [
              0.5555555555555556,
              "#d8576b"
             ],
             [
              0.6666666666666666,
              "#ed7953"
             ],
             [
              0.7777777777777778,
              "#fb9f3a"
             ],
             [
              0.8888888888888888,
              "#fdca26"
             ],
             [
              1,
              "#f0f921"
             ]
            ],
            "type": "surface"
           }
          ],
          "table": [
           {
            "cells": {
             "fill": {
              "color": "#EBF0F8"
             },
             "line": {
              "color": "white"
             }
            },
            "header": {
             "fill": {
              "color": "#C8D4E3"
             },
             "line": {
              "color": "white"
             }
            },
            "type": "table"
           }
          ]
         },
         "layout": {
          "annotationdefaults": {
           "arrowcolor": "#2a3f5f",
           "arrowhead": 0,
           "arrowwidth": 1
          },
          "autotypenumbers": "strict",
          "coloraxis": {
           "colorbar": {
            "outlinewidth": 0,
            "ticks": ""
           }
          },
          "colorscale": {
           "diverging": [
            [
             0,
             "#8e0152"
            ],
            [
             0.1,
             "#c51b7d"
            ],
            [
             0.2,
             "#de77ae"
            ],
            [
             0.3,
             "#f1b6da"
            ],
            [
             0.4,
             "#fde0ef"
            ],
            [
             0.5,
             "#f7f7f7"
            ],
            [
             0.6,
             "#e6f5d0"
            ],
            [
             0.7,
             "#b8e186"
            ],
            [
             0.8,
             "#7fbc41"
            ],
            [
             0.9,
             "#4d9221"
            ],
            [
             1,
             "#276419"
            ]
           ],
           "sequential": [
            [
             0,
             "#0d0887"
            ],
            [
             0.1111111111111111,
             "#46039f"
            ],
            [
             0.2222222222222222,
             "#7201a8"
            ],
            [
             0.3333333333333333,
             "#9c179e"
            ],
            [
             0.4444444444444444,
             "#bd3786"
            ],
            [
             0.5555555555555556,
             "#d8576b"
            ],
            [
             0.6666666666666666,
             "#ed7953"
            ],
            [
             0.7777777777777778,
             "#fb9f3a"
            ],
            [
             0.8888888888888888,
             "#fdca26"
            ],
            [
             1,
             "#f0f921"
            ]
           ],
           "sequentialminus": [
            [
             0,
             "#0d0887"
            ],
            [
             0.1111111111111111,
             "#46039f"
            ],
            [
             0.2222222222222222,
             "#7201a8"
            ],
            [
             0.3333333333333333,
             "#9c179e"
            ],
            [
             0.4444444444444444,
             "#bd3786"
            ],
            [
             0.5555555555555556,
             "#d8576b"
            ],
            [
             0.6666666666666666,
             "#ed7953"
            ],
            [
             0.7777777777777778,
             "#fb9f3a"
            ],
            [
             0.8888888888888888,
             "#fdca26"
            ],
            [
             1,
             "#f0f921"
            ]
           ]
          },
          "colorway": [
           "#636efa",
           "#EF553B",
           "#00cc96",
           "#ab63fa",
           "#FFA15A",
           "#19d3f3",
           "#FF6692",
           "#B6E880",
           "#FF97FF",
           "#FECB52"
          ],
          "font": {
           "color": "#2a3f5f"
          },
          "geo": {
           "bgcolor": "white",
           "lakecolor": "white",
           "landcolor": "#E5ECF6",
           "showlakes": true,
           "showland": true,
           "subunitcolor": "white"
          },
          "hoverlabel": {
           "align": "left"
          },
          "hovermode": "closest",
          "mapbox": {
           "style": "light"
          },
          "paper_bgcolor": "white",
          "plot_bgcolor": "#E5ECF6",
          "polar": {
           "angularaxis": {
            "gridcolor": "white",
            "linecolor": "white",
            "ticks": ""
           },
           "bgcolor": "#E5ECF6",
           "radialaxis": {
            "gridcolor": "white",
            "linecolor": "white",
            "ticks": ""
           }
          },
          "scene": {
           "xaxis": {
            "backgroundcolor": "#E5ECF6",
            "gridcolor": "white",
            "gridwidth": 2,
            "linecolor": "white",
            "showbackground": true,
            "ticks": "",
            "zerolinecolor": "white"
           },
           "yaxis": {
            "backgroundcolor": "#E5ECF6",
            "gridcolor": "white",
            "gridwidth": 2,
            "linecolor": "white",
            "showbackground": true,
            "ticks": "",
            "zerolinecolor": "white"
           },
           "zaxis": {
            "backgroundcolor": "#E5ECF6",
            "gridcolor": "white",
            "gridwidth": 2,
            "linecolor": "white",
            "showbackground": true,
            "ticks": "",
            "zerolinecolor": "white"
           }
          },
          "shapedefaults": {
           "line": {
            "color": "#2a3f5f"
           }
          },
          "ternary": {
           "aaxis": {
            "gridcolor": "white",
            "linecolor": "white",
            "ticks": ""
           },
           "baxis": {
            "gridcolor": "white",
            "linecolor": "white",
            "ticks": ""
           },
           "bgcolor": "#E5ECF6",
           "caxis": {
            "gridcolor": "white",
            "linecolor": "white",
            "ticks": ""
           }
          },
          "title": {
           "x": 0.05
          },
          "xaxis": {
           "automargin": true,
           "gridcolor": "white",
           "linecolor": "white",
           "ticks": "",
           "title": {
            "standoff": 15
           },
           "zerolinecolor": "white",
           "zerolinewidth": 2
          },
          "yaxis": {
           "automargin": true,
           "gridcolor": "white",
           "linecolor": "white",
           "ticks": "",
           "title": {
            "standoff": 15
           },
           "zerolinecolor": "white",
           "zerolinewidth": 2
          }
         }
        }
       }
      },
      "text/html": [
       "<div>                            <div id=\"378ff332-f95c-4146-befa-9d418a1720a4\" class=\"plotly-graph-div\" style=\"height:525px; width:100%;\"></div>            <script type=\"text/javascript\">                require([\"plotly\"], function(Plotly) {                    window.PLOTLYENV=window.PLOTLYENV || {};                                    if (document.getElementById(\"378ff332-f95c-4146-befa-9d418a1720a4\")) {                    Plotly.newPlot(                        \"378ff332-f95c-4146-befa-9d418a1720a4\",                        [{\"cells\":{\"values\":[[\"12/30/2022\",\"12/30/2022\",\"12/30/2022\",\"12/30/2022\",\"12/26/2022\",\"12/26/2022\",\"12/26/2022\",\"12/26/2022\"],[\"nithin\",\"nithin\",\"nithin\",\"nithin\",\"nithin\",\"nithin\",\"nithin\",\"nithin\"],[\"raghotham\",\"raghotham\",\"raghotham\",\"raghotham\",\"raghotham\",\"raghotham\",\"raghotham\",\"raghotham\"],[\"ajay\",\"ajay\",\"ajay\",\"ajay\",\"ajay\",\"ajay\",\"ajay\",\"ajay\"],[\"vinay\",\"vinay\",\"vinay\",\"vinay\",\"vinay\",\"vinay\",\"vinay\",\"vinay\"]]},\"header\":{\"values\":[\"date\",\"team_1_player_1\",\"team_1_player_2\",\"team_2_player_1\",\"team_2_player_2\"]},\"type\":\"table\"}],                        {\"template\":{\"data\":{\"histogram2dcontour\":[{\"type\":\"histogram2dcontour\",\"colorbar\":{\"outlinewidth\":0,\"ticks\":\"\"},\"colorscale\":[[0.0,\"#0d0887\"],[0.1111111111111111,\"#46039f\"],[0.2222222222222222,\"#7201a8\"],[0.3333333333333333,\"#9c179e\"],[0.4444444444444444,\"#bd3786\"],[0.5555555555555556,\"#d8576b\"],[0.6666666666666666,\"#ed7953\"],[0.7777777777777778,\"#fb9f3a\"],[0.8888888888888888,\"#fdca26\"],[1.0,\"#f0f921\"]]}],\"choropleth\":[{\"type\":\"choropleth\",\"colorbar\":{\"outlinewidth\":0,\"ticks\":\"\"}}],\"histogram2d\":[{\"type\":\"histogram2d\",\"colorbar\":{\"outlinewidth\":0,\"ticks\":\"\"},\"colorscale\":[[0.0,\"#0d0887\"],[0.1111111111111111,\"#46039f\"],[0.2222222222222222,\"#7201a8\"],[0.3333333333333333,\"#9c179e\"],[0.4444444444444444,\"#bd3786\"],[0.5555555555555556,\"#d8576b\"],[0.6666666666666666,\"#ed7953\"],[0.7777777777777778,\"#fb9f3a\"],[0.8888888888888888,\"#fdca26\"],[1.0,\"#f0f921\"]]}],\"heatmap\":[{\"type\":\"heatmap\",\"colorbar\":{\"outlinewidth\":0,\"ticks\":\"\"},\"colorscale\":[[0.0,\"#0d0887\"],[0.1111111111111111,\"#46039f\"],[0.2222222222222222,\"#7201a8\"],[0.3333333333333333,\"#9c179e\"],[0.4444444444444444,\"#bd3786\"],[0.5555555555555556,\"#d8576b\"],[0.6666666666666666,\"#ed7953\"],[0.7777777777777778,\"#fb9f3a\"],[0.8888888888888888,\"#fdca26\"],[1.0,\"#f0f921\"]]}],\"heatmapgl\":[{\"type\":\"heatmapgl\",\"colorbar\":{\"outlinewidth\":0,\"ticks\":\"\"},\"colorscale\":[[0.0,\"#0d0887\"],[0.1111111111111111,\"#46039f\"],[0.2222222222222222,\"#7201a8\"],[0.3333333333333333,\"#9c179e\"],[0.4444444444444444,\"#bd3786\"],[0.5555555555555556,\"#d8576b\"],[0.6666666666666666,\"#ed7953\"],[0.7777777777777778,\"#fb9f3a\"],[0.8888888888888888,\"#fdca26\"],[1.0,\"#f0f921\"]]}],\"contourcarpet\":[{\"type\":\"contourcarpet\",\"colorbar\":{\"outlinewidth\":0,\"ticks\":\"\"}}],\"contour\":[{\"type\":\"contour\",\"colorbar\":{\"outlinewidth\":0,\"ticks\":\"\"},\"colorscale\":[[0.0,\"#0d0887\"],[0.1111111111111111,\"#46039f\"],[0.2222222222222222,\"#7201a8\"],[0.3333333333333333,\"#9c179e\"],[0.4444444444444444,\"#bd3786\"],[0.5555555555555556,\"#d8576b\"],[0.6666666666666666,\"#ed7953\"],[0.7777777777777778,\"#fb9f3a\"],[0.8888888888888888,\"#fdca26\"],[1.0,\"#f0f921\"]]}],\"surface\":[{\"type\":\"surface\",\"colorbar\":{\"outlinewidth\":0,\"ticks\":\"\"},\"colorscale\":[[0.0,\"#0d0887\"],[0.1111111111111111,\"#46039f\"],[0.2222222222222222,\"#7201a8\"],[0.3333333333333333,\"#9c179e\"],[0.4444444444444444,\"#bd3786\"],[0.5555555555555556,\"#d8576b\"],[0.6666666666666666,\"#ed7953\"],[0.7777777777777778,\"#fb9f3a\"],[0.8888888888888888,\"#fdca26\"],[1.0,\"#f0f921\"]]}],\"mesh3d\":[{\"type\":\"mesh3d\",\"colorbar\":{\"outlinewidth\":0,\"ticks\":\"\"}}],\"scatter\":[{\"fillpattern\":{\"fillmode\":\"overlay\",\"size\":10,\"solidity\":0.2},\"type\":\"scatter\"}],\"parcoords\":[{\"type\":\"parcoords\",\"line\":{\"colorbar\":{\"outlinewidth\":0,\"ticks\":\"\"}}}],\"scatterpolargl\":[{\"type\":\"scatterpolargl\",\"marker\":{\"colorbar\":{\"outlinewidth\":0,\"ticks\":\"\"}}}],\"bar\":[{\"error_x\":{\"color\":\"#2a3f5f\"},\"error_y\":{\"color\":\"#2a3f5f\"},\"marker\":{\"line\":{\"color\":\"#E5ECF6\",\"width\":0.5},\"pattern\":{\"fillmode\":\"overlay\",\"size\":10,\"solidity\":0.2}},\"type\":\"bar\"}],\"scattergeo\":[{\"type\":\"scattergeo\",\"marker\":{\"colorbar\":{\"outlinewidth\":0,\"ticks\":\"\"}}}],\"scatterpolar\":[{\"type\":\"scatterpolar\",\"marker\":{\"colorbar\":{\"outlinewidth\":0,\"ticks\":\"\"}}}],\"histogram\":[{\"marker\":{\"pattern\":{\"fillmode\":\"overlay\",\"size\":10,\"solidity\":0.2}},\"type\":\"histogram\"}],\"scattergl\":[{\"type\":\"scattergl\",\"marker\":{\"colorbar\":{\"outlinewidth\":0,\"ticks\":\"\"}}}],\"scatter3d\":[{\"type\":\"scatter3d\",\"line\":{\"colorbar\":{\"outlinewidth\":0,\"ticks\":\"\"}},\"marker\":{\"colorbar\":{\"outlinewidth\":0,\"ticks\":\"\"}}}],\"scattermapbox\":[{\"type\":\"scattermapbox\",\"marker\":{\"colorbar\":{\"outlinewidth\":0,\"ticks\":\"\"}}}],\"scatterternary\":[{\"type\":\"scatterternary\",\"marker\":{\"colorbar\":{\"outlinewidth\":0,\"ticks\":\"\"}}}],\"scattercarpet\":[{\"type\":\"scattercarpet\",\"marker\":{\"colorbar\":{\"outlinewidth\":0,\"ticks\":\"\"}}}],\"carpet\":[{\"aaxis\":{\"endlinecolor\":\"#2a3f5f\",\"gridcolor\":\"white\",\"linecolor\":\"white\",\"minorgridcolor\":\"white\",\"startlinecolor\":\"#2a3f5f\"},\"baxis\":{\"endlinecolor\":\"#2a3f5f\",\"gridcolor\":\"white\",\"linecolor\":\"white\",\"minorgridcolor\":\"white\",\"startlinecolor\":\"#2a3f5f\"},\"type\":\"carpet\"}],\"table\":[{\"cells\":{\"fill\":{\"color\":\"#EBF0F8\"},\"line\":{\"color\":\"white\"}},\"header\":{\"fill\":{\"color\":\"#C8D4E3\"},\"line\":{\"color\":\"white\"}},\"type\":\"table\"}],\"barpolar\":[{\"marker\":{\"line\":{\"color\":\"#E5ECF6\",\"width\":0.5},\"pattern\":{\"fillmode\":\"overlay\",\"size\":10,\"solidity\":0.2}},\"type\":\"barpolar\"}],\"pie\":[{\"automargin\":true,\"type\":\"pie\"}]},\"layout\":{\"autotypenumbers\":\"strict\",\"colorway\":[\"#636efa\",\"#EF553B\",\"#00cc96\",\"#ab63fa\",\"#FFA15A\",\"#19d3f3\",\"#FF6692\",\"#B6E880\",\"#FF97FF\",\"#FECB52\"],\"font\":{\"color\":\"#2a3f5f\"},\"hovermode\":\"closest\",\"hoverlabel\":{\"align\":\"left\"},\"paper_bgcolor\":\"white\",\"plot_bgcolor\":\"#E5ECF6\",\"polar\":{\"bgcolor\":\"#E5ECF6\",\"angularaxis\":{\"gridcolor\":\"white\",\"linecolor\":\"white\",\"ticks\":\"\"},\"radialaxis\":{\"gridcolor\":\"white\",\"linecolor\":\"white\",\"ticks\":\"\"}},\"ternary\":{\"bgcolor\":\"#E5ECF6\",\"aaxis\":{\"gridcolor\":\"white\",\"linecolor\":\"white\",\"ticks\":\"\"},\"baxis\":{\"gridcolor\":\"white\",\"linecolor\":\"white\",\"ticks\":\"\"},\"caxis\":{\"gridcolor\":\"white\",\"linecolor\":\"white\",\"ticks\":\"\"}},\"coloraxis\":{\"colorbar\":{\"outlinewidth\":0,\"ticks\":\"\"}},\"colorscale\":{\"sequential\":[[0.0,\"#0d0887\"],[0.1111111111111111,\"#46039f\"],[0.2222222222222222,\"#7201a8\"],[0.3333333333333333,\"#9c179e\"],[0.4444444444444444,\"#bd3786\"],[0.5555555555555556,\"#d8576b\"],[0.6666666666666666,\"#ed7953\"],[0.7777777777777778,\"#fb9f3a\"],[0.8888888888888888,\"#fdca26\"],[1.0,\"#f0f921\"]],\"sequentialminus\":[[0.0,\"#0d0887\"],[0.1111111111111111,\"#46039f\"],[0.2222222222222222,\"#7201a8\"],[0.3333333333333333,\"#9c179e\"],[0.4444444444444444,\"#bd3786\"],[0.5555555555555556,\"#d8576b\"],[0.6666666666666666,\"#ed7953\"],[0.7777777777777778,\"#fb9f3a\"],[0.8888888888888888,\"#fdca26\"],[1.0,\"#f0f921\"]],\"diverging\":[[0,\"#8e0152\"],[0.1,\"#c51b7d\"],[0.2,\"#de77ae\"],[0.3,\"#f1b6da\"],[0.4,\"#fde0ef\"],[0.5,\"#f7f7f7\"],[0.6,\"#e6f5d0\"],[0.7,\"#b8e186\"],[0.8,\"#7fbc41\"],[0.9,\"#4d9221\"],[1,\"#276419\"]]},\"xaxis\":{\"gridcolor\":\"white\",\"linecolor\":\"white\",\"ticks\":\"\",\"title\":{\"standoff\":15},\"zerolinecolor\":\"white\",\"automargin\":true,\"zerolinewidth\":2},\"yaxis\":{\"gridcolor\":\"white\",\"linecolor\":\"white\",\"ticks\":\"\",\"title\":{\"standoff\":15},\"zerolinecolor\":\"white\",\"automargin\":true,\"zerolinewidth\":2},\"scene\":{\"xaxis\":{\"backgroundcolor\":\"#E5ECF6\",\"gridcolor\":\"white\",\"linecolor\":\"white\",\"showbackground\":true,\"ticks\":\"\",\"zerolinecolor\":\"white\",\"gridwidth\":2},\"yaxis\":{\"backgroundcolor\":\"#E5ECF6\",\"gridcolor\":\"white\",\"linecolor\":\"white\",\"showbackground\":true,\"ticks\":\"\",\"zerolinecolor\":\"white\",\"gridwidth\":2},\"zaxis\":{\"backgroundcolor\":\"#E5ECF6\",\"gridcolor\":\"white\",\"linecolor\":\"white\",\"showbackground\":true,\"ticks\":\"\",\"zerolinecolor\":\"white\",\"gridwidth\":2}},\"shapedefaults\":{\"line\":{\"color\":\"#2a3f5f\"}},\"annotationdefaults\":{\"arrowcolor\":\"#2a3f5f\",\"arrowhead\":0,\"arrowwidth\":1},\"geo\":{\"bgcolor\":\"white\",\"landcolor\":\"#E5ECF6\",\"subunitcolor\":\"white\",\"showland\":true,\"showlakes\":true,\"lakecolor\":\"white\"},\"title\":{\"x\":0.05},\"mapbox\":{\"style\":\"light\"}}}},                        {\"responsive\": true}                    ).then(function(){\n",
       "                            \n",
       "var gd = document.getElementById('378ff332-f95c-4146-befa-9d418a1720a4');\n",
       "var x = new MutationObserver(function (mutations, observer) {{\n",
       "        var display = window.getComputedStyle(gd).display;\n",
       "        if (!display || display === 'none') {{\n",
       "            console.log([gd, 'removed!']);\n",
       "            Plotly.purge(gd);\n",
       "            observer.disconnect();\n",
       "        }}\n",
       "}});\n",
       "\n",
       "// Listen for the removal of the full notebook cells\n",
       "var notebookContainer = gd.closest('#notebook-container');\n",
       "if (notebookContainer) {{\n",
       "    x.observe(notebookContainer, {childList: true});\n",
       "}}\n",
       "\n",
       "// Listen for the clearing of the current output cell\n",
       "var outputEl = gd.closest('.output');\n",
       "if (outputEl) {{\n",
       "    x.observe(outputEl, {childList: true});\n",
       "}}\n",
       "\n",
       "                        })                };                });            </script>        </div>"
      ]
     },
     "metadata": {},
     "output_type": "display_data"
    }
   ],
   "source": [
    "table = go.Table(\n",
    "    header=dict(values=head_2_head_df.columns[:5]), \n",
    "    cells=dict(\n",
    "        values=[head_2_head_df[i] for i in head_2_head_df.columns[:5]],\n",
    "        \n",
    "    )\n",
    ")\n",
    "fig = go.Figure(table)\n",
    "fig"
   ]
  },
  {
   "cell_type": "code",
   "execution_count": 35,
   "id": "a2b9d9e1",
   "metadata": {},
   "outputs": [
    {
     "data": {
      "text/plain": [
       "[['12/30/2022',\n",
       "  'nithin',\n",
       "  'raghotham',\n",
       "  'ajay',\n",
       "  'vinay',\n",
       "  14,\n",
       "  21,\n",
       "  'prakash badminton academy',\n",
       "  'team_2',\n",
       "  7,\n",
       "  35,\n",
       "  '35 - 40',\n",
       "  'team_1',\n",
       "  14,\n",
       "  'loss',\n",
       "  0,\n",
       "  'nithin'],\n",
       " ['12/30/2022',\n",
       "  'nithin',\n",
       "  'raghotham',\n",
       "  'ajay',\n",
       "  'vinay',\n",
       "  14,\n",
       "  21,\n",
       "  'prakash badminton academy',\n",
       "  'team_2',\n",
       "  7,\n",
       "  35,\n",
       "  '35 - 40',\n",
       "  'team_1',\n",
       "  14,\n",
       "  'loss',\n",
       "  0,\n",
       "  'nithin'],\n",
       " ['12/30/2022',\n",
       "  'nithin',\n",
       "  'raghotham',\n",
       "  'ajay',\n",
       "  'vinay',\n",
       "  20,\n",
       "  22,\n",
       "  'prakash badminton academy',\n",
       "  'team_2',\n",
       "  2,\n",
       "  42,\n",
       "  '40 - 45',\n",
       "  'team_1',\n",
       "  20,\n",
       "  'loss',\n",
       "  0,\n",
       "  'nithin'],\n",
       " ['12/30/2022',\n",
       "  'nithin',\n",
       "  'raghotham',\n",
       "  'ajay',\n",
       "  'vinay',\n",
       "  14,\n",
       "  21,\n",
       "  'prakash badminton academy',\n",
       "  'team_2',\n",
       "  7,\n",
       "  35,\n",
       "  '35 - 40',\n",
       "  'team_1',\n",
       "  14,\n",
       "  'loss',\n",
       "  0,\n",
       "  'nithin'],\n",
       " ['12/26/2022',\n",
       "  'nithin',\n",
       "  'raghotham',\n",
       "  'ajay',\n",
       "  'vinay',\n",
       "  21,\n",
       "  15,\n",
       "  'match point - gublaala',\n",
       "  'team_1',\n",
       "  6,\n",
       "  36,\n",
       "  '35 - 40',\n",
       "  'team_1',\n",
       "  21,\n",
       "  'win',\n",
       "  1,\n",
       "  'nithin'],\n",
       " ['12/26/2022',\n",
       "  'nithin',\n",
       "  'raghotham',\n",
       "  'ajay',\n",
       "  'vinay',\n",
       "  18,\n",
       "  21,\n",
       "  'match point - gublaala',\n",
       "  'team_2',\n",
       "  3,\n",
       "  39,\n",
       "  '35 - 40',\n",
       "  'team_1',\n",
       "  18,\n",
       "  'loss',\n",
       "  0,\n",
       "  'nithin'],\n",
       " ['12/26/2022',\n",
       "  'nithin',\n",
       "  'raghotham',\n",
       "  'ajay',\n",
       "  'vinay',\n",
       "  16,\n",
       "  21,\n",
       "  'match point - gublaala',\n",
       "  'team_2',\n",
       "  5,\n",
       "  37,\n",
       "  '35 - 40',\n",
       "  'team_1',\n",
       "  16,\n",
       "  'loss',\n",
       "  0,\n",
       "  'nithin'],\n",
       " ['12/26/2022',\n",
       "  'nithin',\n",
       "  'raghotham',\n",
       "  'ajay',\n",
       "  'vinay',\n",
       "  21,\n",
       "  13,\n",
       "  'match point - gublaala',\n",
       "  'team_1',\n",
       "  8,\n",
       "  34,\n",
       "  '30 - 35',\n",
       "  'team_1',\n",
       "  21,\n",
       "  'win',\n",
       "  1,\n",
       "  'nithin']]"
      ]
     },
     "execution_count": 35,
     "metadata": {},
     "output_type": "execute_result"
    }
   ],
   "source": []
  },
  {
   "cell_type": "code",
   "execution_count": null,
   "id": "a61f4e4f",
   "metadata": {},
   "outputs": [],
   "source": []
  }
 ],
 "metadata": {
  "kernelspec": {
   "display_name": "Python 3",
   "language": "python",
   "name": "python3"
  },
  "language_info": {
   "codemirror_mode": {
    "name": "ipython",
    "version": 3
   },
   "file_extension": ".py",
   "mimetype": "text/x-python",
   "name": "python",
   "nbconvert_exporter": "python",
   "pygments_lexer": "ipython3",
   "version": "3.8.10"
  }
 },
 "nbformat": 4,
 "nbformat_minor": 5
}
